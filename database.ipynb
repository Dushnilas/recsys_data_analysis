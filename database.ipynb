{
 "cells": [
  {
   "cell_type": "code",
   "id": "initial_id",
   "metadata": {
    "collapsed": true,
    "is_executing": true
   },
   "source": [
    "import json\n",
    "import time\n",
    "import time\n",
    "import pandas as pd\n",
    "from pygments.lexers import q\n",
    "import mysql.connector\n",
    "from mysql.connector import Error\n",
    "import re\n",
    "from nltk.stem import WordNetLemmatizer\n",
    "import nltk\n",
    "nltk.download('punkt')\n",
    "nltk.download('stopwords')\n",
    "nltk.download('wordnet')\n",
    "nltk.download('omw-1.4')\n",
    "from nltk.corpus.reader.tagged import word_tokenize\n",
    "from nltk.corpus import stopwords\n",
    "import numpy as np"
   ],
   "outputs": [],
   "execution_count": null
  },
  {
   "metadata": {
    "is_executing": true
   },
   "cell_type": "code",
   "source": [
    "def create_connection(host_name, user_name, user_password, db_name, port):\n",
    "    connection = None\n",
    "    try:\n",
    "        connection = mysql.connector.connect(\n",
    "            host=host_name,\n",
    "            user=user_name,\n",
    "            password=user_password,\n",
    "            database=db_name,\n",
    "            port=port\n",
    "        )\n",
    "        cursor = connection.cursor()\n",
    "        # cursor.execute(\"SET GLOBAL max_allowed_packet=67108864\")\n",
    "        cursor.close()\n",
    "        print(\"Connection to MySQL DB successful\")\n",
    "    except Error as e:\n",
    "        print(f\"The error '{e}' occurred\")\n",
    "    return connection"
   ],
   "id": "2d3885ecf5cc396",
   "outputs": [],
   "execution_count": null
  },
  {
   "metadata": {
    "ExecuteTime": {
     "end_time": "2024-05-26T06:47:58.448637Z",
     "start_time": "2024-05-26T06:47:58.445146Z"
    }
   },
   "cell_type": "code",
   "source": [
    "def execute_query(connection, query):\n",
    "    cursor = connection.cursor()\n",
    "    try:\n",
    "        cursor.execute(query)\n",
    "        connection.commit()\n",
    "        print(\"Query executed successfully\")\n",
    "    except Error as e:\n",
    "        print(f\"The error '{e}' occurred\")"
   ],
   "id": "6fef9510a463efbb",
   "outputs": [],
   "execution_count": 3
  },
  {
   "cell_type": "code",
   "source": [],
   "metadata": {
    "collapsed": false,
    "ExecuteTime": {
     "end_time": "2024-05-26T06:47:59.128624Z",
     "start_time": "2024-05-26T06:47:59.126725Z"
    }
   },
   "id": "2a1746454fb2411",
   "outputs": [],
   "execution_count": 3
  },
  {
   "metadata": {
    "ExecuteTime": {
     "end_time": "2024-05-27T12:04:56.895021Z",
     "start_time": "2024-05-27T12:04:56.885417Z"
    }
   },
   "cell_type": "code",
   "source": [
    "host_name = \"92.53.120.173\"\n",
    "user_name = \"root\"\n",
    "user_password = \"fd6_PejvxFF?@-\"\n",
    "db_name = \"recsys_project_database\"\n",
    "port = 3306"
   ],
   "id": "9793b748fdda28bf",
   "outputs": [],
   "execution_count": 9
  },
  {
   "metadata": {
    "ExecuteTime": {
     "end_time": "2024-05-27T12:12:38.134349Z",
     "start_time": "2024-05-27T12:12:37.789185Z"
    }
   },
   "cell_type": "code",
   "source": [
    "connection = create_connection(host_name, user_name, user_password, db_name, port)"
   ],
   "id": "39017697ad999ded",
   "outputs": [
    {
     "name": "stdout",
     "output_type": "stream",
     "text": [
      "Connection to MySQL DB successful\n"
     ]
    }
   ],
   "execution_count": 16
  },
  {
   "cell_type": "code",
   "outputs": [
    {
     "name": "stdout",
     "output_type": "stream",
     "text": [
      "Number of rows in 'titles' table: 386209\n"
     ]
    }
   ],
   "source": [
    "cursor = connection.cursor()\n",
    "try:\n",
    "    cursor.execute(\"SELECT COUNT(*) FROM titles\")\n",
    "    row_count = cursor.fetchone()[0]\n",
    "    print(f\"Number of rows in 'titles' table: {row_count}\")\n",
    "except Error as e:\n",
    "    print(f\"The error '{e}' occurred\")\n",
    "finally:\n",
    "    cursor.close()"
   ],
   "metadata": {
    "collapsed": false,
    "ExecuteTime": {
     "end_time": "2024-05-27T12:05:03.168237Z",
     "start_time": "2024-05-27T12:05:02.838812Z"
    }
   },
   "id": "b9312dc94734cb27",
   "execution_count": 11
  },
  {
   "cell_type": "code",
   "outputs": [
    {
     "name": "stdout",
     "output_type": "stream",
     "text": [
      "('tt0011801', 'movie', 'Tötet nicht mehr', 'In Russia s revolution, a violinist s son dies,the father is jailed for assaulting the governor. Years later, the violinist s daughter wants to marry the son of the man who sentenced her father.A tragic fate awaits her new husband.', 2019, None, 0, 'russia revolution violinist son diesthe father jailed assaulting governor year later violinist daughter want marry son man sentenced fathera tragic fate awaits new husband')\n",
      "('tt0013274', 'movie', 'Istoriya grazhdanskoy voyny', 'A feature length documentary taken by the Red Army during the Russian Civil War, showing the incremental street battles and the major assaults waged against the counter revolutionaries.', 2021, None, 0, 'feature length documentary taken red army russian civil war showing incremental street battle major assault waged counter revolutionary')\n",
      "('tt0062336', 'movie', 'The Tango of the Widower and Its Distorting Mirror', 'The story of a man whose wife has committed suicide and appears to him as a ghost, following him everywhere and changing his personality.', 2020, None, 0, 'story man whose wife committed suicide appears ghost following everywhere changing personality')\n",
      "('tt0070596', 'movie', 'Socialist Realism', 'A satirical reading of the process of the Unidad Popular of President Salvador Allende, prior to the military civic coup of 1973 in Chile. The film is a choral story, where different worlds are chained together.', 2023, None, 0, 'satirical reading process unidad popular president salvador allende prior military civic coup chile film choral story different world chained together')\n",
      "('tt0077684', 'movie', 'Histórias de Combóios em Portugal', None, 2022, None, 0, None)\n",
      "('tt0096235', 'movie', 'Taxi Killer', 'Jenny, a young taxi driver, is assaulted and raped by four thugs. Since the police seem to have no time to look for their assailants, Jenny, tired of not getting justice, decides to take revenge on her own.', 2022, None, 0, 'jenny young taxi driver assaulted raped four thug since police seem time look assailant jenny tired getting justice decides take revenge')\n",
      "('tt0097304', 'movie', \"Everything's for You\", 'Filmmaker Abraham Ravett attempts to reconcile issues in his life as the child of a Holocaust survivor in this experimental non-narrative film. Ravett reflects upon his relationships with his family, from his now-deceased father (...', 2009, None, 0, 'filmmaker abraham ravett attempt reconcile issue life child holocaust survivor experimental nonnarrative film ravett reflects upon relationship family nowdeceased father')\n",
      "('tt0097767', 'movie', 'Loading Ludwig', 'In the 21st century, Mimi wakes up and her computer relays the order: Go back to start. Let s load Ludwig! A sort of chase through her past and future begins.', 2022, None, 0, 'century mimi wake computer relay order back start let load ludwig sort chase past future begin')\n",
      "('tt0100275', 'movie', 'The Wandering Soap Opera', 'The film revolves around the concept of soap opera. Its structure is based on the assumption that Chilean reality does not exist, but rather is an ensemble of soap operas.', 2017, None, 0, 'film revolves around concept soap opera structure based assumption chilean reality exist rather ensemble soap opera')\n",
      "('tt0104988', 'movie', 'Neues in Wittstock', 'Volker Koepp again visits Wittstock an der Dosse in the German state Mark Brandenburg, apx. 90 kilometers from Berlin. This time he interviews female workers in the local textile industry about their experiences after the re-unifi...', 2021, None, 0, 'volker koepp visit wittstock der dosse german state mark brandenburg apx kilometer berlin time interview female worker local textile industry experience reunifi')\n"
     ]
    }
   ],
   "source": [
    "query = \"\"\"\n",
    "        SELECT t.*, d.description\n",
    "        FROM titles t\n",
    "        LEFT JOIN description_modified d ON t.tconst = d.tconst\n",
    "        LIMIT 10;\n",
    "        \"\"\"\n",
    "cursor = connection.cursor()\n",
    "cursor.execute(query)\n",
    "results = cursor.fetchall()\n",
    "for row in results:\n",
    "    print(row)"
   ],
   "metadata": {
    "collapsed": false,
    "ExecuteTime": {
     "end_time": "2024-05-27T12:12:43.435803Z",
     "start_time": "2024-05-27T12:12:43.381281Z"
    }
   },
   "id": "252ec310473ee4b0",
   "execution_count": 17
  },
  {
   "cell_type": "code",
   "source": [
    "# def drop_all_tables(connection):\n",
    "#     try:\n",
    "#         cursor = connection.cursor()\n",
    "#         cursor.execute(\"SET FOREIGN_KEY_CHECKS = 0;\")  # Отключить проверку внешних ключей\n",
    "#         cursor.execute(\"SHOW TABLES;\")\n",
    "#         tables = cursor.fetchall()\n",
    "#         for table in tables:\n",
    "#             drop_query = f\"DROP TABLE IF EXISTS {table[0]};\"\n",
    "#             print(f\"Table {table[0]} dropped successfully\")\n",
    "#             cursor.execute(drop_query)\n",
    "#         cursor.execute(\"SET FOREIGN_KEY_CHECKS = 1;\")  # Включить проверку внешних ключей обратно\n",
    "#         connection.commit()\n",
    "#         print(\"All tables dropped successfully\")\n",
    "#     except Error as e:\n",
    "#         print(f\"The error '{e}' occurred\")\n",
    "# drop_all_tables(connection)"
   ],
   "metadata": {
    "collapsed": false,
    "ExecuteTime": {
     "end_time": "2024-05-26T06:48:01.344719Z",
     "start_time": "2024-05-26T06:48:01.341025Z"
    }
   },
   "id": "4fd64ecdccf89cab",
   "outputs": [],
   "execution_count": 6
  },
  {
   "metadata": {
    "ExecuteTime": {
     "end_time": "2024-05-26T06:48:02.028822Z",
     "start_time": "2024-05-26T06:48:02.026163Z"
    }
   },
   "cell_type": "code",
   "source": [
    "# create_titles_table =  \"\"\"\n",
    "# SELECT COUNT(*) FROM titles\n",
    "# \"\"\"\n",
    "# execute_query(connection, create_titles_table)"
   ],
   "id": "fb9bdebdad83dbf7",
   "outputs": [],
   "execution_count": 7
  },
  {
   "metadata": {
    "jupyter": {
     "is_executing": true
    },
    "ExecuteTime": {
     "start_time": "2024-05-26T06:48:05.568163Z"
    }
   },
   "cell_type": "code",
   "source": [
    "create_titles_table =  \"\"\"\n",
    "    CREATE TABLE IF NOT EXISTS titles (\n",
    "        tconst VARCHAR(11) PRIMARY KEY,\n",
    "        title_type VARCHAR(20),\n",
    "        title_name VARCHAR(255),\n",
    "        description TEXT,\n",
    "        year_start INT,\n",
    "        year_end INT,\n",
    "        is_adult TINYINT(1) NOT NULL DEFAULT 0\n",
    "    );\n",
    "    \"\"\"\n",
    "execute_query(connection, create_titles_table)"
   ],
   "id": "4f8e50d2a7f85908",
   "outputs": [],
   "execution_count": null
  },
  {
   "cell_type": "code",
   "source": [
    "# alter_query = \"\"\"\n",
    "#     ALTER TABLE titles\n",
    "#     MODIFY COLUMN title_name VARCHAR(255);\n",
    "#     \"\"\"\n",
    "# try:\n",
    "#     cursor = connection.cursor()\n",
    "#     cursor.execute(alter_query)\n",
    "#     connection.commit()\n",
    "#     print(\"Table altered successfully\")\n",
    "# except Error as e:\n",
    "#     print(f\"The error '{e}' occurred\")"
   ],
   "metadata": {
    "collapsed": false,
    "jupyter": {
     "is_executing": true
    }
   },
   "id": "5237416511d9e9d",
   "outputs": [],
   "execution_count": null
  },
  {
   "metadata": {
    "jupyter": {
     "is_executing": true
    }
   },
   "cell_type": "code",
   "source": [
    "create_genres_table = \"\"\"\n",
    "CREATE TABLE IF NOT EXISTS genres (\n",
    "    genre_id TINYINT PRIMARY KEY,\n",
    "    genre_name VARCHAR(20)\n",
    ");\n",
    "\"\"\"\n",
    "execute_query(connection, create_genres_table)"
   ],
   "id": "1ad744d08f317749",
   "outputs": [],
   "execution_count": null
  },
  {
   "metadata": {
    "jupyter": {
     "is_executing": true
    }
   },
   "cell_type": "code",
   "source": [
    "create_names_table = \"\"\"\n",
    "CREATE TABLE IF NOT EXISTS names (\n",
    "    nconst VARCHAR(11) PRIMARY KEY,\n",
    "    name VARCHAR(50),\n",
    "    birth_year INT,\n",
    "    death_year INT\n",
    ");\n",
    "\"\"\"\n",
    "execute_query(connection, create_names_table)"
   ],
   "id": "a506f0bbf0ad0ee4",
   "outputs": [],
   "execution_count": null
  },
  {
   "metadata": {
    "jupyter": {
     "is_executing": true
    }
   },
   "cell_type": "code",
   "source": [
    "create_names_image_table = \"\"\"\n",
    "CREATE TABLE IF NOT EXISTS names_image (\n",
    "    nconst VARCHAR(11),\n",
    "    image_url TEXT,\n",
    "    PRIMARY KEY (nconst),\n",
    "    FOREIGN KEY (nconst) REFERENCES names (nconst)\n",
    ");\n",
    "\"\"\"\n",
    "execute_query(connection, create_names_image_table)"
   ],
   "id": "ed0c535588876602",
   "outputs": [],
   "execution_count": null
  },
  {
   "metadata": {
    "jupyter": {
     "is_executing": true
    }
   },
   "cell_type": "code",
   "source": [
    "create_names_titles_table = \"\"\"\n",
    "CREATE TABLE IF NOT EXISTS names_titles (\n",
    "    id INT AUTO_INCREMENT PRIMARY KEY,\n",
    "    nconst VARCHAR(11),\n",
    "    tconst VARCHAR(11),\n",
    "    n_role ENUM('actor', 'director', 'producer'),\n",
    "    character_played VARCHAR(255),\n",
    "    actor_importance TINYINT,\n",
    "    FOREIGN KEY (tconst) REFERENCES titles(tconst)\n",
    ");\n",
    "\"\"\"\n",
    "# FOREIGN KEY (nconst) REFERENCES names(nconst),\n",
    "execute_query(connection, create_names_titles_table)"
   ],
   "id": "c60c2394bb8d6a31",
   "outputs": [],
   "execution_count": null
  },
  {
   "metadata": {
    "jupyter": {
     "is_executing": true
    }
   },
   "cell_type": "code",
   "source": [
    "# cursor = connection.cursor()\n",
    "# try:\n",
    "#     cursor.execute(\"\"\"\n",
    "#             SELECT CONSTRAINT_NAME \n",
    "#             FROM INFORMATION_SCHEMA.KEY_COLUMN_USAGE \n",
    "#             WHERE TABLE_NAME = 'names_titles' \n",
    "#               AND COLUMN_NAME = 'nconst';\n",
    "#             \"\"\")\n",
    "#     foreign_key = cursor.fetchone()\n",
    "# \n",
    "#     if foreign_key:\n",
    "#         # Удаление внешнего ключа\n",
    "#         drop_fk_query = f\"ALTER TABLE names_titles DROP FOREIGN KEY {foreign_key[0]}\"\n",
    "#         cursor.execute(drop_fk_query)\n",
    "#         connection.commit()\n",
    "#         print(\"Foreign key for 'nconst' dropped successfully\")\n",
    "#     else:\n",
    "#         print(\"No foreign key found for 'nconst'\")\n",
    "# except Error as e:\n",
    "#     print(f\"The error '{e}' occurred\")\n",
    "# finally:\n",
    "#     cursor.close()"
   ],
   "id": "1a31b3d3aaccc9f",
   "outputs": [],
   "execution_count": null
  },
  {
   "metadata": {
    "jupyter": {
     "is_executing": true
    }
   },
   "cell_type": "code",
   "source": [
    "\n",
    "create_ratings_table = \"\"\"\n",
    "CREATE TABLE IF NOT EXISTS ratings (\n",
    "    tconst VARCHAR(11),\n",
    "    rating FLOAT,\n",
    "    num_votes INT,\n",
    "    PRIMARY KEY (tconst),\n",
    "    FOREIGN KEY (tconst) REFERENCES titles (tconst)\n",
    ");\n",
    "\"\"\"\n",
    "execute_query(connection, create_ratings_table)"
   ],
   "id": "5318f9a847dff41a",
   "outputs": [],
   "execution_count": null
  },
  {
   "cell_type": "code",
   "source": [],
   "metadata": {
    "collapsed": false,
    "jupyter": {
     "is_executing": true
    }
   },
   "id": "53d73aa910e7ebc1",
   "outputs": [],
   "execution_count": null
  },
  {
   "metadata": {
    "jupyter": {
     "is_executing": true
    }
   },
   "cell_type": "code",
   "source": [
    "\n",
    "create_titles_image_table = \"\"\"\n",
    "CREATE TABLE IF NOT EXISTS titles_image (\n",
    "    tconst VARCHAR(11),\n",
    "    image_url TEXT,\n",
    "    PRIMARY KEY (tconst),\n",
    "    FOREIGN KEY (tconst) REFERENCES titles (tconst)\n",
    ");\n",
    "\"\"\"\n",
    "execute_query(connection, create_titles_image_table)"
   ],
   "id": "659795e9bc9b294",
   "outputs": [],
   "execution_count": null
  },
  {
   "metadata": {
    "jupyter": {
     "is_executing": true
    }
   },
   "cell_type": "code",
   "source": [
    "create_titles_genres_table = \"\"\"\n",
    "CREATE TABLE IF NOT EXISTS titles_genres (\n",
    "    id INT AUTO_INCREMENT PRIMARY KEY,\n",
    "    tconst VARCHAR(11),\n",
    "    genre_id TINYINT,\n",
    "    FOREIGN KEY (tconst) REFERENCES titles (tconst),\n",
    "    FOREIGN KEY (genre_id) REFERENCES genres (genre_id)\n",
    ");\n",
    "\"\"\"\n",
    "execute_query(connection, create_titles_genres_table)"
   ],
   "id": "b4a05cfdddcb66af",
   "outputs": [],
   "execution_count": null
  },
  {
   "metadata": {
    "jupyter": {
     "is_executing": true
    }
   },
   "cell_type": "code",
   "source": [
    "create_user_profile_table = \"\"\"\n",
    "CREATE TABLE IF NOT EXISTS user_profile (\n",
    "    user_id VARCHAR(20) PRIMARY KEY,\n",
    "    name VARCHAR(30),\n",
    "    age TINYINT,\n",
    "    photo_uri VARCHAR(255)\n",
    ");\n",
    "\"\"\"\n",
    "execute_query(connection, create_user_profile_table)"
   ],
   "id": "8d4f002fdc12b0c7",
   "outputs": [],
   "execution_count": null
  },
  {
   "metadata": {
    "jupyter": {
     "is_executing": true
    }
   },
   "cell_type": "code",
   "source": [
    "\n",
    "create_user_collections_table = \"\"\"\n",
    "CREATE TABLE IF NOT EXISTS user_collections (\n",
    "    collection_id INT AUTO_INCREMENT PRIMARY KEY,\n",
    "    collection_name VARCHAR(30),\n",
    "    user_id VARCHAR(20),\n",
    "    FOREIGN KEY (user_id) REFERENCES user_profile (user_id)\n",
    ");\n",
    "\"\"\"\n",
    "execute_query(connection, create_user_collections_table)"
   ],
   "id": "4a00aa65852ac415",
   "outputs": [],
   "execution_count": null
  },
  {
   "metadata": {
    "jupyter": {
     "is_executing": true
    }
   },
   "cell_type": "code",
   "source": [
    "create_titles_collections_table = \"\"\"\n",
    "CREATE TABLE IF NOT EXISTS titles_collections (\n",
    "    id INT AUTO_INCREMENT PRIMARY KEY,\n",
    "    collection_id INT,\n",
    "    tconst VARCHAR(11),\n",
    "    FOREIGN KEY (collection_id) REFERENCES user_collections (collection_id),\n",
    "    FOREIGN KEY (tconst) REFERENCES titles (tconst)\n",
    ");\n",
    "\"\"\"\n",
    "execute_query(connection, create_titles_collections_table)"
   ],
   "id": "1635e598f590233f",
   "outputs": [],
   "execution_count": null
  },
  {
   "metadata": {
    "jupyter": {
     "is_executing": true
    }
   },
   "cell_type": "code",
   "source": [
    "\n",
    "create_user_ratings_table = \"\"\"\n",
    "CREATE TABLE IF NOT EXISTS user_ratings (\n",
    "    id INT AUTO_INCREMENT PRIMARY KEY,\n",
    "    user_id VARCHAR(20),\n",
    "    tconst VARCHAR(11),\n",
    "    rating TINYINT,\n",
    "    FOREIGN KEY (user_id) REFERENCES user_profile (user_id),\n",
    "    FOREIGN KEY (tconst) REFERENCES titles (tconst)\n",
    ");\n",
    "\"\"\"\n",
    "execute_query(connection, create_user_ratings_table)"
   ],
   "id": "f8d28c0e8aa2a045",
   "outputs": [],
   "execution_count": null
  },
  {
   "metadata": {
    "jupyter": {
     "is_executing": true
    }
   },
   "cell_type": "code",
   "source": [
    "create_auth_table = \"\"\"\n",
    "CREATE TABLE IF NOT EXISTS auth (\n",
    "    id INT AUTO_INCREMENT PRIMARY KEY,\n",
    "    user_id VARCHAR(20),\n",
    "    pass VARCHAR(16),\n",
    "    FOREIGN KEY (user_id) REFERENCES user_profile (user_id)\n",
    ");\n",
    "\"\"\"\n",
    "execute_query(connection, create_auth_table)"
   ],
   "id": "b461e03c89ce1105",
   "outputs": [],
   "execution_count": null
  },
  {
   "metadata": {
    "jupyter": {
     "is_executing": true
    }
   },
   "cell_type": "code",
   "source": [
    "add_default_collections_script = \"\"\"\n",
    "    CREATE TRIGGER after_user_insert\n",
    "    AFTER INSERT ON user_profile\n",
    "    FOR EACH ROW\n",
    "    BEGIN\n",
    "        INSERT INTO user_collections (collection_name, user_id)\n",
    "        VALUES ('Watch later', NEW.user_id),\n",
    "               ('Liked', NEW.user_id);\n",
    "    END;\n",
    "    \"\"\"\n",
    "execute_query(connection, add_default_collections_script)"
   ],
   "id": "a2cf2293b4d48c22",
   "outputs": [],
   "execution_count": null
  },
  {
   "metadata": {
    "jupyter": {
     "is_executing": true
    }
   },
   "cell_type": "code",
   "source": [
    "delete_user_script = \"\"\"\n",
    "    CREATE TRIGGER before_user_delete\n",
    "    BEFORE DELETE ON user_profile\n",
    "    FOR EACH ROW\n",
    "    BEGIN\n",
    "        DELETE FROM titles_collections WHERE collection_id IN (\n",
    "            SELECT collection_id FROM user_collections WHERE user_id = OLD.user_id\n",
    "        );\n",
    "        DELETE FROM user_collections WHERE user_id = OLD.user_id;\n",
    "        DELETE FROM user_ratings WHERE user_id = OLD.user_id;\n",
    "        DELETE FROM auth WHERE user_id = OLD.user_id;\n",
    "    END;\n",
    "    \"\"\"\n",
    "execute_query(connection, delete_user_script)"
   ],
   "id": "490f97c4e525c14d",
   "outputs": [],
   "execution_count": null
  },
  {
   "cell_type": "code",
   "source": [
    "\n",
    "create_table_query = \"\"\"\n",
    "    CREATE TABLE IF NOT EXISTS description_modified (\n",
    "        tconst VARCHAR(11) PRIMARY KEY,\n",
    "        description TEXT,\n",
    "        FOREIGN KEY (tconst) REFERENCES titles(tconst)\n",
    "    );\n",
    "    \"\"\"\n",
    "execute_query(connection, create_table_query)"
   ],
   "metadata": {
    "collapsed": false,
    "jupyter": {
     "is_executing": true
    }
   },
   "id": "ad1049ab804bbaa8",
   "outputs": [],
   "execution_count": null
  },
  {
   "metadata": {},
   "cell_type": "code",
   "source": [],
   "id": "463102aee889989c",
   "outputs": [],
   "execution_count": null
  },
  {
   "metadata": {},
   "cell_type": "code",
   "source": [],
   "id": "b621305734671b39",
   "outputs": [],
   "execution_count": null
  },
  {
   "metadata": {},
   "cell_type": "code",
   "source": [],
   "id": "6c50a39e2a31d9fb",
   "outputs": [],
   "execution_count": null
  },
  {
   "metadata": {},
   "cell_type": "code",
   "source": [],
   "id": "4f82cf5e5303bd60",
   "outputs": [],
   "execution_count": null
  },
  {
   "metadata": {},
   "cell_type": "code",
   "source": [],
   "id": "87ab384f2d18ff2a",
   "outputs": [],
   "execution_count": null
  },
  {
   "metadata": {},
   "cell_type": "markdown",
   "source": [
    "Reading parsed_data"
   ],
   "id": "688e7b90a207e5f9"
  },
  {
   "metadata": {},
   "cell_type": "code",
   "source": [
    "with open(\"parsed_data.csv\", \"r\", encoding=\"utf-8\") as f:\n",
    "    text = f.read()\n",
    "columns = ['tconst', 'data']"
   ],
   "id": "df2b18ee8812ce4a",
   "outputs": [],
   "execution_count": null
  },
  {
   "metadata": {},
   "cell_type": "code",
   "source": [
    "pattern = re.compile(r'}\\s*\\n\\s*tt')\n",
    "data = {}\n",
    "matches = pattern.finditer(text)\n",
    "indices = [match.start() for match in matches]\n",
    "beginning = 0\n",
    "for i in indices:\n",
    "    a = text[beginning:i+1].split(';', 1)\n",
    "    data[a[0]] = a[1]\n",
    "    beginning = i + 2"
   ],
   "id": "7c8f3a41cf6728a3",
   "outputs": [],
   "execution_count": null
  },
  {
   "metadata": {},
   "cell_type": "code",
   "source": [
    "all_title_links = []\n",
    "all_descriptions = []\n",
    "for k, v in data.items():\n",
    "    d = [k]\n",
    "    link = re.findall(r'\"image\":\"(https?://[^\"]+)\"', v)\n",
    "    descriptions = re.findall(r'\"description\":\"([^\"]+)\"', v)\n",
    "    if link:\n",
    "        d.append(link[0])\n",
    "    else:\n",
    "        d.append('https://mainstream-spb.ru/uploads/s/0/z/k/0zk8gjqzwgii/img/full_Yc96J5UA.png')\n",
    "    if descriptions:\n",
    "        description = re.sub(r\"&[^;]+;\", ' ', descriptions[0])\n",
    "        description = re.sub(r'\\s+', ' ', description)\n",
    "        d.append(description)\n",
    "    else:\n",
    "        d.append('\\\\N')\n",
    "    all_descriptions.append(d)"
   ],
   "id": "1a27d682af9b80c3",
   "outputs": [],
   "execution_count": null
  },
  {
   "metadata": {},
   "cell_type": "code",
   "source": [
    "desc_df = pd.DataFrame(all_descriptions, columns=['tconst', 'description', 'links'])\n",
    "desc_df"
   ],
   "id": "79aeeeec4b648b01",
   "outputs": [],
   "execution_count": null
  },
  {
   "cell_type": "code",
   "source": [
    "titlebasics = pd.read_csv('data/title.basics.tsv', sep = '\\t')\n",
    "titlebasics = pd.merge(titlebasics, desc_df, on='tconst', how='inner')\n",
    "titlebasics = titlebasics.replace('\\\\N', None)\n",
    "titlebasics"
   ],
   "metadata": {
    "collapsed": false
   },
   "id": "24c6a89bf03a36f9",
   "outputs": [],
   "execution_count": null
  },
  {
   "cell_type": "code",
   "source": [
    "titlebasics = titlebasics.sort_values(by='startYear', ascending=False)\n",
    "# titlebasics = titlebasics[titlebasics['startYear'] <= 2023]\n",
    "titlebasics_cleaned = titlebasics.dropna(subset=['startYear'])\n",
    "titlebasics_cleaned['startYear'] = titlebasics_cleaned['startYear'].astype(int)\n",
    "titlebasics_cleaned = titlebasics_cleaned[titlebasics_cleaned['startYear'] <= 2023]\n",
    "titlebasics_cleaned"
   ],
   "metadata": {
    "collapsed": false
   },
   "id": "f489c5bb94556687",
   "outputs": [],
   "execution_count": null
  },
  {
   "metadata": {},
   "cell_type": "code",
   "source": [
    "title_principals = pd.read_csv('data/title.principals.tsv', sep = '\\t')\n",
    "title_principals"
   ],
   "id": "2e658ff97b48cbe",
   "outputs": [],
   "execution_count": null
  },
  {
   "metadata": {},
   "cell_type": "code",
   "source": [
    "title_principals_filtered = title_principals[title_principals['tconst'].isin(titlebasics_cleaned['tconst'])]\n",
    "title_principals_filtered"
   ],
   "id": "a1de2e820d24c4d",
   "outputs": [],
   "execution_count": null
  },
  {
   "metadata": {},
   "cell_type": "code",
   "source": [
    "title_principals_filtered = title_principals_filtered.replace('\\\\N', None)\n",
    "title_principals_filtered"
   ],
   "id": "469d102f0ba5a31f",
   "outputs": [],
   "execution_count": null
  },
  {
   "metadata": {},
   "cell_type": "code",
   "source": [
    "title_principals_filtered.head()"
   ],
   "id": "72aed09172d814a9",
   "outputs": [],
   "execution_count": null
  },
  {
   "metadata": {},
   "cell_type": "code",
   "source": [
    "title_principals_filtered['category'].unique()"
   ],
   "id": "85193ad5f8167872",
   "outputs": [],
   "execution_count": null
  },
  {
   "metadata": {},
   "cell_type": "code",
   "source": [
    "title_principals_filtered_rows = title_principals_filtered.to_numpy().tolist()"
   ],
   "id": "d63311dfb0c7416d",
   "outputs": [],
   "execution_count": null
  },
  {
   "metadata": {},
   "cell_type": "code",
   "source": [
    "name_set = []\n",
    "names_titles_data = {}\n",
    "for record in title_principals_filtered_rows:\n",
    "    temp = []\n",
    "    if record[0] not in names_titles_data:\n",
    "        names_titles_data[record[0]] = []\n",
    "    if record[3] in ['actress', 'actor']:\n",
    "        if record[-1]:\n",
    "            character = json.loads(record[-1])\n",
    "            character = character[0].split('-')[0].strip()\n",
    "        else:\n",
    "            character = record[-1]\n",
    "        temp = [record[2], record[0], 'actor', character, record[1]]\n",
    "        name_set.append(record[2])\n",
    "    elif record[3] in ['producer']:\n",
    "        temp = [record[2], record[0], record[3], None, record[1]]\n",
    "        name_set.append(record[2])\n",
    "    elif record[3] in ['director']:\n",
    "        temp = [record[2], record[0], record[3], None, None]\n",
    "        name_set.append(record[2])\n",
    "    if temp:\n",
    "        names_titles_data[record[0]].append(temp)"
   ],
   "id": "e832c0f31807c310",
   "outputs": [],
   "execution_count": null
  },
  {
   "metadata": {},
   "cell_type": "code",
   "source": [
    "name_set = list(set(name_set))"
   ],
   "id": "c5ad96eba1fd2bf0",
   "outputs": [],
   "execution_count": null
  },
  {
   "metadata": {},
   "cell_type": "code",
   "source": [
    "names_titles_data"
   ],
   "id": "e346793101e711f1",
   "outputs": [],
   "execution_count": null
  },
  {
   "cell_type": "code",
   "outputs": [],
   "source": [],
   "metadata": {
    "collapsed": false
   },
   "id": "78a89d0401d4ba9b"
  },
  {
   "metadata": {},
   "cell_type": "code",
   "source": [
    "name_basics = pd.read_csv('data/name.basics.tsv', sep = '\\t')\n",
    "name_basics = name_basics.replace('\\\\N', None)\n",
    "name_basics.head(20)"
   ],
   "id": "20668e591db10908",
   "outputs": [],
   "execution_count": null
  },
  {
   "metadata": {},
   "cell_type": "code",
   "source": [
    "name_basics = name_basics[name_basics['nconst'].isin(name_set)]\n",
    "name_basics"
   ],
   "id": "d481f948d943874a",
   "outputs": [],
   "execution_count": null
  },
  {
   "metadata": {},
   "cell_type": "code",
   "source": [
    "name_basics_list = name_basics.to_numpy().tolist()"
   ],
   "id": "ce096d2b622efb6f",
   "outputs": [],
   "execution_count": null
  },
  {
   "metadata": {},
   "cell_type": "code",
   "source": [
    "name_basics"
   ],
   "id": "40a19e5627adeb04",
   "outputs": [],
   "execution_count": null
  },
  {
   "metadata": {},
   "cell_type": "code",
   "source": [
    "names_list = []\n",
    "for name in name_basics_list:\n",
    "    names_list.append([name[0], name[1], name[2], name[3]])"
   ],
   "id": "a53d7c0b99fb83f4",
   "outputs": [],
   "execution_count": null
  },
  {
   "metadata": {
    "ExecuteTime": {
     "end_time": "2024-05-25T21:35:16.228925Z",
     "start_time": "2024-05-25T21:35:16.211346Z"
    }
   },
   "cell_type": "code",
   "source": [
    "from itertools import islice\n",
    "\n",
    "def close_connection(connection):\n",
    "    if connection is not None and connection.is_connected():\n",
    "        connection.close()\n",
    "        print(\"Connection to MySQL DB closed\")\n",
    "\n",
    "def insert_names(connection, names):\n",
    "    insert_query = \"\"\"\n",
    "    INSERT IGNORE INTO names (nconst, name, birth_year, death_year)\n",
    "    VALUES (%s, %s, %s, %s)\n",
    "    \"\"\"\n",
    "    cursor = connection.cursor()\n",
    "    try:\n",
    "        cursor.executemany(insert_query, names)\n",
    "        connection.commit()\n",
    "        print(f\"{cursor.rowcount} rows inserted successfully\")\n",
    "    except Error as e:\n",
    "        print(f\"The error '{e}' occurred\")\n",
    "    finally:\n",
    "        cursor.close()\n",
    "\n",
    "def chunked_iterator(data, chunk_size):\n",
    "    it = iter(data)\n",
    "    for first in it:\n",
    "        yield list(islice(it, chunk_size - 1, None)) + [first]\n",
    "\n",
    "\n",
    "chunks = enumerate(chunked_iterator(names_list, 100))\n"
   ],
   "id": "cd347e02cb7b892f",
   "outputs": [],
   "execution_count": 59
  },
  {
   "metadata": {},
   "cell_type": "code",
   "source": [],
   "id": "b299cf10deaa1386",
   "outputs": [],
   "execution_count": null
  },
  {
   "metadata": {
    "ExecuteTime": {
     "end_time": "2024-05-25T21:35:54.655666Z",
     "start_time": "2024-05-25T21:35:32.205590Z"
    }
   },
   "cell_type": "code",
   "source": [
    "connection = create_connection(host_name, user_name, user_password, db_name, port)\n",
    "if connection is not None:\n",
    "    for i, chunk in chunks:\n",
    "        insert_names(connection, chunk)\n",
    "        if (i + 1) % 1000 == 0:  # Переподключение каждые 10000 записей\n",
    "            print('reconnecting to db...')\n",
    "            close_connection(connection)\n",
    "            connection = create_connection(host_name, user_name, user_password, db_name, port)\n",
    "            print('reconnected!')\n",
    "    close_connection(connection)"
   ],
   "id": "f0d63cbb5e305ee7",
   "outputs": [
    {
     "name": "stdout",
     "output_type": "stream",
     "text": [
      "Connection to MySQL DB successful\n",
      "The error '2013 (HY000): Lost connection to MySQL server during query' occurred\n"
     ]
    }
   ],
   "execution_count": 60
  },
  {
   "metadata": {},
   "cell_type": "code",
   "source": [],
   "id": "24fdc2297669a8f0",
   "outputs": [],
   "execution_count": null
  },
  {
   "metadata": {},
   "cell_type": "code",
   "source": [],
   "id": "58f864162f8d8ea4",
   "outputs": [],
   "execution_count": null
  },
  {
   "metadata": {},
   "cell_type": "code",
   "source": [
    "titlebasics_cleaned"
   ],
   "id": "a414b944f5b4f64d",
   "outputs": [],
   "execution_count": null
  },
  {
   "metadata": {},
   "cell_type": "code",
   "source": [
    "data_listed = titlebasics_cleaned.to_numpy().tolist() #!!!!!!\n"
   ],
   "id": "98e5a8e15327b44e",
   "outputs": [],
   "execution_count": null
  },
  {
   "metadata": {},
   "cell_type": "code",
   "source": [
    "g = titlebasics_cleaned['genres'].unique()\n",
    "gg = []\n",
    "ggg = [] #!!!!!!!!!\n",
    "for i in g:\n",
    "    if i:\n",
    "        i = i.split(',')\n",
    "        gg += i\n",
    "gg = list(set(gg))\n",
    "for i, j in enumerate(gg):\n",
    "    ggg.append((j, i))\n",
    "ggg = dict(ggg)\n",
    "ggg"
   ],
   "id": "508e8626b1029ae",
   "outputs": [],
   "execution_count": null
  },
  {
   "metadata": {},
   "cell_type": "markdown",
   "source": [],
   "id": "9341efa71cd26a88"
  },
  {
   "metadata": {},
   "cell_type": "code",
   "source": [
    "titles_genres_dict = {}\n",
    "for title in data_listed[0:50]:\n",
    "    if title[8]:\n",
    "        genres = title[8].split(',')\n",
    "        temp = []\n",
    "        for j in genres:\n",
    "            temp.append((title[0], ggg[j]))\n",
    "        titles_genres_dict[title[0]] = temp"
   ],
   "id": "6ed1ca30767f5ba4",
   "outputs": [],
   "execution_count": null
  },
  {
   "metadata": {},
   "cell_type": "code",
   "source": [
    "titles_genres_dict"
   ],
   "id": "2ec18fc42ed1c678",
   "outputs": [],
   "execution_count": null
  },
  {
   "metadata": {},
   "cell_type": "code",
   "source": [],
   "id": "1c33a649b29410ad",
   "outputs": [],
   "execution_count": null
  },
  {
   "cell_type": "code",
   "source": [],
   "metadata": {
    "collapsed": false
   },
   "id": "8d5b64a656fff946",
   "outputs": [],
   "execution_count": null
  },
  {
   "metadata": {},
   "cell_type": "code",
   "source": [],
   "id": "a40eb1fd91c03409",
   "outputs": [],
   "execution_count": null
  },
  {
   "metadata": {},
   "cell_type": "code",
   "source": [
    "links_titles = []\n",
    "for d in data_listed:\n",
    "    links_titles.append((d[0], d[9]))"
   ],
   "id": "e5057c041738bdf8",
   "outputs": [],
   "execution_count": null
  },
  {
   "metadata": {},
   "cell_type": "code",
   "source": [
    "links_titles #!!!!!!!!"
   ],
   "id": "c9a582abe79e7f12",
   "outputs": [],
   "execution_count": null
  },
  {
   "metadata": {},
   "cell_type": "code",
   "source": [],
   "id": "74d32d4f10411981",
   "outputs": [],
   "execution_count": null
  },
  {
   "metadata": {},
   "cell_type": "code",
   "source": [],
   "id": "2b2da09386a5f0b9",
   "outputs": [],
   "execution_count": null
  },
  {
   "metadata": {},
   "cell_type": "code",
   "source": [],
   "id": "695a3eefe2ee9f1a",
   "outputs": [],
   "execution_count": null
  },
  {
   "metadata": {},
   "cell_type": "code",
   "source": [],
   "id": "90bd5eaad93a48e2",
   "outputs": [],
   "execution_count": null
  },
  {
   "metadata": {},
   "cell_type": "code",
   "source": [],
   "id": "713c037a6af0e58b",
   "outputs": [],
   "execution_count": null
  },
  {
   "metadata": {},
   "cell_type": "code",
   "source": [],
   "id": "e37eafe4b5ef018b",
   "outputs": [],
   "execution_count": null
  },
  {
   "metadata": {},
   "cell_type": "code",
   "source": [],
   "id": "9a79a74898729c44",
   "outputs": [],
   "execution_count": null
  },
  {
   "metadata": {},
   "cell_type": "code",
   "source": [
    "# insert_query = \"\"\"\n",
    "#     INSERT INTO genres (genre_id, genre_name)\n",
    "#     VALUES (%s, %s)\n",
    "#     \"\"\"\n",
    "# connection = create_connection(host_name, user_name, user_password, db_name, port)\n",
    "# cursor = connection.cursor()\n",
    "# try:\n",
    "#     cursor.executemany(insert_query, ggg)\n",
    "#     connection.commit()\n",
    "#     print(f\"{cursor.rowcount} rows inserted successfully\")\n",
    "# except Error as e:\n",
    "#     print(f\"The error '{e}' occurred\")\n",
    "# finally:\n",
    "#     cursor.close()"
   ],
   "id": "a34b6ce3897afa93",
   "outputs": [],
   "execution_count": null
  },
  {
   "metadata": {
    "ExecuteTime": {
     "end_time": "2024-05-25T21:27:51.882734Z",
     "start_time": "2024-05-25T21:27:51.860090Z"
    }
   },
   "cell_type": "code",
   "source": [
    "titles_genres_dict"
   ],
   "id": "4daa7ff12da32c2c",
   "outputs": [
    {
     "data": {
      "text/plain": [
       "{'tt29515719': [('tt29515719', 11)],\n",
       " 'tt29101369': [('tt29101369', 1)],\n",
       " 'tt27301485': [('tt27301485', 9)],\n",
       " 'tt29578104': [('tt29578104', 11)],\n",
       " 'tt23874192': [('tt23874192', 16), ('tt23874192', 13), ('tt23874192', 8)],\n",
       " 'tt29515862': [('tt29515862', 20)],\n",
       " 'tt28045727': [('tt28045727', 11)],\n",
       " 'tt27802756': [('tt27802756', 17), ('tt27802756', 11)],\n",
       " 'tt22007328': [('tt22007328', 11)],\n",
       " 'tt27301484': [('tt27301484', 1), ('tt27301484', 27)],\n",
       " 'tt27898371': [('tt27898371', 6)],\n",
       " 'tt22006694': [('tt22006694', 1)],\n",
       " 'tt5892642': [('tt5892642', 11)],\n",
       " 'tt27636322': [('tt27636322', 1)],\n",
       " 'tt18069838': [('tt18069838', 13), ('tt18069838', 11), ('tt18069838', 19)],\n",
       " 'tt27899117': [('tt27899117', 17), ('tt27899117', 2), ('tt27899117', 11)],\n",
       " 'tt23214770': [('tt23214770', 23)],\n",
       " 'tt22006416': [('tt22006416', 2), ('tt22006416', 1)],\n",
       " 'tt25602582': [('tt25602582', 1)],\n",
       " 'tt18546730': [('tt18546730', 13), ('tt18546730', 1), ('tt18546730', 23)],\n",
       " 'tt22088562': [('tt22088562', 20)],\n",
       " 'tt11097240': [('tt11097240', 16), ('tt11097240', 20), ('tt11097240', 1)],\n",
       " 'tt29515754': [('tt29515754', 2), ('tt29515754', 6)],\n",
       " 'tt27301476': [('tt27301476', 23)],\n",
       " 'tt8080204': [('tt8080204', 16), ('tt8080204', 1), ('tt8080204', 9)],\n",
       " 'tt24229602': [('tt24229602', 1)],\n",
       " 'tt28515545': [('tt28515545', 1)],\n",
       " 'tt23952060': [('tt23952060', 2), ('tt23952060', 6)],\n",
       " 'tt28067867': [('tt28067867', 23)],\n",
       " 'tt22008008': [('tt22008008', 11)],\n",
       " 'tt27301465': [('tt27301465', 11)],\n",
       " 'tt22008216': [('tt22008216', 20), ('tt22008216', 1)],\n",
       " 'tt18545980': [('tt18545980', 20), ('tt18545980', 19), ('tt18545980', 22)],\n",
       " 'tt27301571': [('tt27301571', 11)],\n",
       " 'tt14012572': [('tt14012572', 16), ('tt14012572', 2)],\n",
       " 'tt22006200': [('tt22006200', 1)],\n",
       " 'tt28045482': [('tt28045482', 11)],\n",
       " 'tt29552585': [('tt29552585', 23)],\n",
       " 'tt27623081': [('tt27623081', 11)],\n",
       " 'tt22000746': [('tt22000746', 6)],\n",
       " 'tt28068429': [('tt28068429', 11)],\n",
       " 'tt22001304': [('tt22001304', 16), ('tt22001304', 2), ('tt22001304', 6)],\n",
       " 'tt5884796': [('tt5884796', 16), ('tt5884796', 13), ('tt5884796', 6)],\n",
       " 'tt18235444': [('tt18235444', 1)],\n",
       " 'tt29552831': [('tt29552831', 1)],\n",
       " 'tt28539414': [('tt28539414', 20), ('tt28539414', 1)],\n",
       " 'tt27352646': [('tt27352646', 8)],\n",
       " 'tt24229104': [('tt24229104', 20)],\n",
       " 'tt21819994': [('tt21819994', 16), ('tt21819994', 2), ('tt21819994', 1)],\n",
       " 'tt27627455': [('tt27627455', 1)]}"
      ]
     },
     "execution_count": 57,
     "metadata": {},
     "output_type": "execute_result"
    }
   ],
   "execution_count": 57
  },
  {
   "metadata": {},
   "cell_type": "code",
   "source": [
    "## !!!!!!!!!!!!!!!!!!!!!!!!!!!!!!!!!!!!!!!!!!!!!!!!!!!!!!!!! MAIN PART !!!!!!!!!!!!!!!!!!!!!!!!!!!!!!!!!!!!!!!!!!!!!!!!!!!!!!!!!!!!!!!!!!!!"
   ],
   "id": "82d8db14713dc44c",
   "outputs": [],
   "execution_count": null
  },
  {
   "metadata": {
    "ExecuteTime": {
     "end_time": "2024-05-25T21:34:22.277063Z",
     "start_time": "2024-05-25T21:34:13.598264Z"
    }
   },
   "cell_type": "code",
   "source": [
    "connection = create_connection(host_name, user_name, user_password, db_name, port)\n",
    "cursor = connection.cursor()\n",
    "lemmatizer = WordNetLemmatizer()\n",
    "stop_words = set(stopwords.words('english'))\n",
    "for d in range(len(data_listed)):\n",
    "    if d % 1000 == 0:\n",
    "        cursor.close()\n",
    "        connection.close() \n",
    "        connection = create_connection(host_name, user_name, user_password, db_name, port)\n",
    "        cursor = connection.cursor()\n",
    "    try:\n",
    "        # Insert into titles\n",
    "        insert_query_titles = \"\"\"\n",
    "        INSERT IGNORE INTO titles (tconst, title_type, title_name, description, year_start, year_end, is_adult)\n",
    "        VALUES (%s, %s, %s, %s, %s, %s, %s)\n",
    "        \"\"\"\n",
    "        cursor.execute(insert_query_titles, [data_listed[d][0], data_listed[d][1], data_listed[d][2], data_listed[d][10], data_listed[d][5], data_listed[d][6], data_listed[d][4]])\n",
    "        connection.commit()\n",
    "        print(f\"Film {d} successfully inserted into table TITLES\")\n",
    "        \n",
    "        # Insert into titles_image\n",
    "        insert_query_links = \"\"\"\n",
    "            INSERT IGNORE INTO titles_image (tconst, image_url)\n",
    "            VALUES (%s, %s)\n",
    "            \"\"\"\n",
    "        cursor.execute(insert_query_links, [data_listed[d][0], data_listed[d][9]])\n",
    "        print(f\"Film {d}'s link for picture successfully inserted into table TITLES_IMAGE\")\n",
    "\n",
    "        insert_query_names_titles = \"\"\"\n",
    "    INSERT INTO names_titles (nconst, tconst, n_role, character_played, actor_importance)\n",
    "    VALUES (%s, %s, %s, %s, %s)\n",
    "        \"\"\"\n",
    "        names_titles = names_titles_data[data_listed[d][0]]\n",
    "        try:\n",
    "            if names_titles:\n",
    "                cursor.executemany(insert_query_names_titles, names_titles)\n",
    "                connection.commit()\n",
    "                print(f\"{cursor.rowcount} names inserted successfully\")\n",
    "            else:\n",
    "                print('no names for this film')\n",
    "        except Error as e:\n",
    "            print(f\"The error '{e}' occurred\")\n",
    "            \n",
    "        insert_query = \"\"\"\n",
    "    INSERT INTO titles_genres (tconst, genre_id)\n",
    "    VALUES (%s, %s)\n",
    "    \"\"\"\n",
    "        titles_genres = titles_genres_dict[data_listed[d][0]]\n",
    "        if titles_genres:\n",
    "            try:\n",
    "                cursor.executemany(insert_query, titles_genres)\n",
    "                connection.commit()\n",
    "                print(f\"{cursor.rowcount} genres inserted successfully\")\n",
    "            except Error as e:\n",
    "                print(f\"The error '{e}' occurred\")\n",
    "        else:\n",
    "            print('no genres for this film')\n",
    "        try:\n",
    "            if data_listed[d][10]:\n",
    "                i = data_listed[d][10].lower()\n",
    "                i = re.sub(r'[^\\w\\s]', '', i)\n",
    "                i = re.sub(r'\\d', '', i)\n",
    "                tokens = word_tokenize(i)\n",
    "                lemmas = [lemmatizer.lemmatize(token) for token in tokens if token not in stop_words and len(token) > 2]\n",
    "                i = ' '.join(lemmas)\n",
    "                print(f'Film {d} lemmatized')\n",
    "            else:\n",
    "                i = None\n",
    "                print(f'Film {d} has no description, lemmatization skipped')\n",
    "\n",
    "            insert_query_descs = \"\"\"\n",
    "            INSERT IGNORE INTO description_modified (tconst, description)\n",
    "            VALUES (%s, %s)\n",
    "            \"\"\"\n",
    "            cursor.execute(insert_query_descs, (data_listed[d][0], i))\n",
    "            connection.commit()\n",
    "            print(f'Lemmatized description of film {d} has been inserted into DESCRIPTION_MODIFIED')\n",
    "\n",
    "        except AttributeError:\n",
    "            print(f'Film {d} has no description, lemmatization skipped')\n",
    "            insert_query_descs = \"\"\"\n",
    "            INSERT IGNORE INTO description_modified (tconst, description)\n",
    "            VALUES (%s, %s)\n",
    "            \"\"\"\n",
    "            cursor.execute(insert_query_descs, (data_listed[d][0], None))\n",
    "            connection.commit()\n",
    "            print(f'NoneType description of film {d} has been inserted into DESCRIPTION_MODIFIED')\n",
    "\n",
    "    except Exception as e:\n",
    "        print(f'ERROR: {e}\\nFilm {d} skipped')\n",
    "\n",
    "    print('--------')"
   ],
   "id": "147ed3f945c1df5",
   "outputs": [
    {
     "name": "stdout",
     "output_type": "stream",
     "text": [
      "Connection to MySQL DB successful\n",
      "Connection to MySQL DB successful\n",
      "Film 0 successfully inserted into table TITLES\n",
      "Film 0's link for picture successfully inserted into table TITLES_IMAGE\n",
      "The error '1452 (23000): Cannot add or update a child row: a foreign key constraint fails (`recsys_project_database`.`names_titles`, CONSTRAINT `names_titles_ibfk_1` FOREIGN KEY (`nconst`) REFERENCES `names` (`nconst`))' occurred\n",
      "The error '1452 (23000): Cannot add or update a child row: a foreign key constraint fails (`recsys_project_database`.`titles_genres`, CONSTRAINT `titles_genres_ibfk_2` FOREIGN KEY (`genre_id`) REFERENCES `genres` (`genre_id`))' occurred\n",
      "Film 0 lemmatized\n",
      "Lemmatized description of film 0 has been inserted into DESCRIPTION_MODIFIED\n",
      "--------\n",
      "Film 1 successfully inserted into table TITLES\n",
      "Film 1's link for picture successfully inserted into table TITLES_IMAGE\n",
      "The error '1452 (23000): Cannot add or update a child row: a foreign key constraint fails (`recsys_project_database`.`names_titles`, CONSTRAINT `names_titles_ibfk_1` FOREIGN KEY (`nconst`) REFERENCES `names` (`nconst`))' occurred\n",
      "The error '1452 (23000): Cannot add or update a child row: a foreign key constraint fails (`recsys_project_database`.`titles_genres`, CONSTRAINT `titles_genres_ibfk_2` FOREIGN KEY (`genre_id`) REFERENCES `genres` (`genre_id`))' occurred\n",
      "Film 1 has no description, lemmatization skipped\n",
      "Lemmatized description of film 1 has been inserted into DESCRIPTION_MODIFIED\n",
      "--------\n",
      "Film 2 successfully inserted into table TITLES\n",
      "Film 2's link for picture successfully inserted into table TITLES_IMAGE\n",
      "The error '1452 (23000): Cannot add or update a child row: a foreign key constraint fails (`recsys_project_database`.`names_titles`, CONSTRAINT `names_titles_ibfk_1` FOREIGN KEY (`nconst`) REFERENCES `names` (`nconst`))' occurred\n",
      "The error '1452 (23000): Cannot add or update a child row: a foreign key constraint fails (`recsys_project_database`.`titles_genres`, CONSTRAINT `titles_genres_ibfk_2` FOREIGN KEY (`genre_id`) REFERENCES `genres` (`genre_id`))' occurred\n",
      "Film 2 lemmatized\n",
      "Lemmatized description of film 2 has been inserted into DESCRIPTION_MODIFIED\n",
      "--------\n",
      "Film 3 successfully inserted into table TITLES\n",
      "Film 3's link for picture successfully inserted into table TITLES_IMAGE\n",
      "The error '1452 (23000): Cannot add or update a child row: a foreign key constraint fails (`recsys_project_database`.`names_titles`, CONSTRAINT `names_titles_ibfk_1` FOREIGN KEY (`nconst`) REFERENCES `names` (`nconst`))' occurred\n",
      "The error '1452 (23000): Cannot add or update a child row: a foreign key constraint fails (`recsys_project_database`.`titles_genres`, CONSTRAINT `titles_genres_ibfk_2` FOREIGN KEY (`genre_id`) REFERENCES `genres` (`genre_id`))' occurred\n",
      "Film 3 lemmatized\n",
      "Lemmatized description of film 3 has been inserted into DESCRIPTION_MODIFIED\n",
      "--------\n",
      "Film 4 successfully inserted into table TITLES\n",
      "Film 4's link for picture successfully inserted into table TITLES_IMAGE\n",
      "The error '1452 (23000): Cannot add or update a child row: a foreign key constraint fails (`recsys_project_database`.`names_titles`, CONSTRAINT `names_titles_ibfk_1` FOREIGN KEY (`nconst`) REFERENCES `names` (`nconst`))' occurred\n",
      "The error '1452 (23000): Cannot add or update a child row: a foreign key constraint fails (`recsys_project_database`.`titles_genres`, CONSTRAINT `titles_genres_ibfk_2` FOREIGN KEY (`genre_id`) REFERENCES `genres` (`genre_id`))' occurred\n",
      "Film 4 lemmatized\n",
      "Lemmatized description of film 4 has been inserted into DESCRIPTION_MODIFIED\n",
      "--------\n",
      "Film 5 successfully inserted into table TITLES\n",
      "Film 5's link for picture successfully inserted into table TITLES_IMAGE\n",
      "The error '1452 (23000): Cannot add or update a child row: a foreign key constraint fails (`recsys_project_database`.`names_titles`, CONSTRAINT `names_titles_ibfk_1` FOREIGN KEY (`nconst`) REFERENCES `names` (`nconst`))' occurred\n",
      "The error '1452 (23000): Cannot add or update a child row: a foreign key constraint fails (`recsys_project_database`.`titles_genres`, CONSTRAINT `titles_genres_ibfk_2` FOREIGN KEY (`genre_id`) REFERENCES `genres` (`genre_id`))' occurred\n",
      "Film 5 lemmatized\n",
      "Lemmatized description of film 5 has been inserted into DESCRIPTION_MODIFIED\n",
      "--------\n",
      "Film 6 successfully inserted into table TITLES\n",
      "Film 6's link for picture successfully inserted into table TITLES_IMAGE\n",
      "The error '1452 (23000): Cannot add or update a child row: a foreign key constraint fails (`recsys_project_database`.`names_titles`, CONSTRAINT `names_titles_ibfk_1` FOREIGN KEY (`nconst`) REFERENCES `names` (`nconst`))' occurred\n",
      "The error '1452 (23000): Cannot add or update a child row: a foreign key constraint fails (`recsys_project_database`.`titles_genres`, CONSTRAINT `titles_genres_ibfk_2` FOREIGN KEY (`genre_id`) REFERENCES `genres` (`genre_id`))' occurred\n",
      "Film 6 has no description, lemmatization skipped\n",
      "Lemmatized description of film 6 has been inserted into DESCRIPTION_MODIFIED\n",
      "--------\n",
      "Film 7 successfully inserted into table TITLES\n",
      "Film 7's link for picture successfully inserted into table TITLES_IMAGE\n",
      "The error '1452 (23000): Cannot add or update a child row: a foreign key constraint fails (`recsys_project_database`.`names_titles`, CONSTRAINT `names_titles_ibfk_1` FOREIGN KEY (`nconst`) REFERENCES `names` (`nconst`))' occurred\n",
      "The error '1452 (23000): Cannot add or update a child row: a foreign key constraint fails (`recsys_project_database`.`titles_genres`, CONSTRAINT `titles_genres_ibfk_2` FOREIGN KEY (`genre_id`) REFERENCES `genres` (`genre_id`))' occurred\n",
      "Film 7 has no description, lemmatization skipped\n",
      "Lemmatized description of film 7 has been inserted into DESCRIPTION_MODIFIED\n",
      "--------\n",
      "Film 8 successfully inserted into table TITLES\n",
      "Film 8's link for picture successfully inserted into table TITLES_IMAGE\n",
      "The error '1452 (23000): Cannot add or update a child row: a foreign key constraint fails (`recsys_project_database`.`names_titles`, CONSTRAINT `names_titles_ibfk_1` FOREIGN KEY (`nconst`) REFERENCES `names` (`nconst`))' occurred\n",
      "The error '1452 (23000): Cannot add or update a child row: a foreign key constraint fails (`recsys_project_database`.`titles_genres`, CONSTRAINT `titles_genres_ibfk_2` FOREIGN KEY (`genre_id`) REFERENCES `genres` (`genre_id`))' occurred\n",
      "Film 8 lemmatized\n",
      "Lemmatized description of film 8 has been inserted into DESCRIPTION_MODIFIED\n",
      "--------\n",
      "Film 9 successfully inserted into table TITLES\n",
      "Film 9's link for picture successfully inserted into table TITLES_IMAGE\n",
      "The error '1452 (23000): Cannot add or update a child row: a foreign key constraint fails (`recsys_project_database`.`names_titles`, CONSTRAINT `names_titles_ibfk_1` FOREIGN KEY (`nconst`) REFERENCES `names` (`nconst`))' occurred\n",
      "The error '1452 (23000): Cannot add or update a child row: a foreign key constraint fails (`recsys_project_database`.`titles_genres`, CONSTRAINT `titles_genres_ibfk_2` FOREIGN KEY (`genre_id`) REFERENCES `genres` (`genre_id`))' occurred\n",
      "Film 9 lemmatized\n",
      "Lemmatized description of film 9 has been inserted into DESCRIPTION_MODIFIED\n",
      "--------\n",
      "Film 10 successfully inserted into table TITLES\n",
      "Film 10's link for picture successfully inserted into table TITLES_IMAGE\n",
      "The error '1452 (23000): Cannot add or update a child row: a foreign key constraint fails (`recsys_project_database`.`names_titles`, CONSTRAINT `names_titles_ibfk_1` FOREIGN KEY (`nconst`) REFERENCES `names` (`nconst`))' occurred\n",
      "The error '1452 (23000): Cannot add or update a child row: a foreign key constraint fails (`recsys_project_database`.`titles_genres`, CONSTRAINT `titles_genres_ibfk_2` FOREIGN KEY (`genre_id`) REFERENCES `genres` (`genre_id`))' occurred\n",
      "Film 10 lemmatized\n",
      "Lemmatized description of film 10 has been inserted into DESCRIPTION_MODIFIED\n",
      "--------\n",
      "Film 11 successfully inserted into table TITLES\n",
      "Film 11's link for picture successfully inserted into table TITLES_IMAGE\n",
      "The error '1452 (23000): Cannot add or update a child row: a foreign key constraint fails (`recsys_project_database`.`names_titles`, CONSTRAINT `names_titles_ibfk_1` FOREIGN KEY (`nconst`) REFERENCES `names` (`nconst`))' occurred\n",
      "The error '1452 (23000): Cannot add or update a child row: a foreign key constraint fails (`recsys_project_database`.`titles_genres`, CONSTRAINT `titles_genres_ibfk_2` FOREIGN KEY (`genre_id`) REFERENCES `genres` (`genre_id`))' occurred\n",
      "Film 11 lemmatized\n",
      "Lemmatized description of film 11 has been inserted into DESCRIPTION_MODIFIED\n",
      "--------\n",
      "Film 12 successfully inserted into table TITLES\n",
      "Film 12's link for picture successfully inserted into table TITLES_IMAGE\n",
      "The error '1452 (23000): Cannot add or update a child row: a foreign key constraint fails (`recsys_project_database`.`names_titles`, CONSTRAINT `names_titles_ibfk_1` FOREIGN KEY (`nconst`) REFERENCES `names` (`nconst`))' occurred\n",
      "The error '1452 (23000): Cannot add or update a child row: a foreign key constraint fails (`recsys_project_database`.`titles_genres`, CONSTRAINT `titles_genres_ibfk_2` FOREIGN KEY (`genre_id`) REFERENCES `genres` (`genre_id`))' occurred\n",
      "Film 12 lemmatized\n",
      "Lemmatized description of film 12 has been inserted into DESCRIPTION_MODIFIED\n",
      "--------\n",
      "Film 13 successfully inserted into table TITLES\n",
      "Film 13's link for picture successfully inserted into table TITLES_IMAGE\n",
      "The error '1452 (23000): Cannot add or update a child row: a foreign key constraint fails (`recsys_project_database`.`names_titles`, CONSTRAINT `names_titles_ibfk_1` FOREIGN KEY (`nconst`) REFERENCES `names` (`nconst`))' occurred\n",
      "The error '1452 (23000): Cannot add or update a child row: a foreign key constraint fails (`recsys_project_database`.`titles_genres`, CONSTRAINT `titles_genres_ibfk_2` FOREIGN KEY (`genre_id`) REFERENCES `genres` (`genre_id`))' occurred\n",
      "Film 13 lemmatized\n",
      "Lemmatized description of film 13 has been inserted into DESCRIPTION_MODIFIED\n",
      "--------\n",
      "Film 14 successfully inserted into table TITLES\n",
      "Film 14's link for picture successfully inserted into table TITLES_IMAGE\n",
      "no names for this film\n",
      "The error '1452 (23000): Cannot add or update a child row: a foreign key constraint fails (`recsys_project_database`.`titles_genres`, CONSTRAINT `titles_genres_ibfk_2` FOREIGN KEY (`genre_id`) REFERENCES `genres` (`genre_id`))' occurred\n",
      "Film 14 lemmatized\n",
      "Lemmatized description of film 14 has been inserted into DESCRIPTION_MODIFIED\n",
      "--------\n",
      "Film 15 successfully inserted into table TITLES\n",
      "Film 15's link for picture successfully inserted into table TITLES_IMAGE\n",
      "The error '1452 (23000): Cannot add or update a child row: a foreign key constraint fails (`recsys_project_database`.`names_titles`, CONSTRAINT `names_titles_ibfk_1` FOREIGN KEY (`nconst`) REFERENCES `names` (`nconst`))' occurred\n",
      "The error '1452 (23000): Cannot add or update a child row: a foreign key constraint fails (`recsys_project_database`.`titles_genres`, CONSTRAINT `titles_genres_ibfk_2` FOREIGN KEY (`genre_id`) REFERENCES `genres` (`genre_id`))' occurred\n",
      "Film 15 lemmatized\n",
      "Lemmatized description of film 15 has been inserted into DESCRIPTION_MODIFIED\n",
      "--------\n",
      "Film 16 successfully inserted into table TITLES\n",
      "Film 16's link for picture successfully inserted into table TITLES_IMAGE\n",
      "The error '1452 (23000): Cannot add or update a child row: a foreign key constraint fails (`recsys_project_database`.`names_titles`, CONSTRAINT `names_titles_ibfk_1` FOREIGN KEY (`nconst`) REFERENCES `names` (`nconst`))' occurred\n",
      "The error '1452 (23000): Cannot add or update a child row: a foreign key constraint fails (`recsys_project_database`.`titles_genres`, CONSTRAINT `titles_genres_ibfk_2` FOREIGN KEY (`genre_id`) REFERENCES `genres` (`genre_id`))' occurred\n",
      "Film 16 has no description, lemmatization skipped\n",
      "Lemmatized description of film 16 has been inserted into DESCRIPTION_MODIFIED\n",
      "--------\n",
      "Film 17 successfully inserted into table TITLES\n",
      "Film 17's link for picture successfully inserted into table TITLES_IMAGE\n",
      "no names for this film\n",
      "The error '1452 (23000): Cannot add or update a child row: a foreign key constraint fails (`recsys_project_database`.`titles_genres`, CONSTRAINT `titles_genres_ibfk_2` FOREIGN KEY (`genre_id`) REFERENCES `genres` (`genre_id`))' occurred\n",
      "Film 17 lemmatized\n",
      "Lemmatized description of film 17 has been inserted into DESCRIPTION_MODIFIED\n",
      "--------\n",
      "Film 18 successfully inserted into table TITLES\n",
      "Film 18's link for picture successfully inserted into table TITLES_IMAGE\n",
      "The error '1452 (23000): Cannot add or update a child row: a foreign key constraint fails (`recsys_project_database`.`names_titles`, CONSTRAINT `names_titles_ibfk_1` FOREIGN KEY (`nconst`) REFERENCES `names` (`nconst`))' occurred\n",
      "The error '1452 (23000): Cannot add or update a child row: a foreign key constraint fails (`recsys_project_database`.`titles_genres`, CONSTRAINT `titles_genres_ibfk_2` FOREIGN KEY (`genre_id`) REFERENCES `genres` (`genre_id`))' occurred\n",
      "Film 18 has no description, lemmatization skipped\n",
      "Lemmatized description of film 18 has been inserted into DESCRIPTION_MODIFIED\n",
      "--------\n",
      "Film 19 successfully inserted into table TITLES\n",
      "Film 19's link for picture successfully inserted into table TITLES_IMAGE\n",
      "The error '1452 (23000): Cannot add or update a child row: a foreign key constraint fails (`recsys_project_database`.`names_titles`, CONSTRAINT `names_titles_ibfk_1` FOREIGN KEY (`nconst`) REFERENCES `names` (`nconst`))' occurred\n",
      "The error '1452 (23000): Cannot add or update a child row: a foreign key constraint fails (`recsys_project_database`.`titles_genres`, CONSTRAINT `titles_genres_ibfk_2` FOREIGN KEY (`genre_id`) REFERENCES `genres` (`genre_id`))' occurred\n",
      "Film 19 lemmatized\n",
      "Lemmatized description of film 19 has been inserted into DESCRIPTION_MODIFIED\n",
      "--------\n",
      "Film 20 successfully inserted into table TITLES\n",
      "Film 20's link for picture successfully inserted into table TITLES_IMAGE\n",
      "The error '1452 (23000): Cannot add or update a child row: a foreign key constraint fails (`recsys_project_database`.`names_titles`, CONSTRAINT `names_titles_ibfk_1` FOREIGN KEY (`nconst`) REFERENCES `names` (`nconst`))' occurred\n",
      "The error '1452 (23000): Cannot add or update a child row: a foreign key constraint fails (`recsys_project_database`.`titles_genres`, CONSTRAINT `titles_genres_ibfk_2` FOREIGN KEY (`genre_id`) REFERENCES `genres` (`genre_id`))' occurred\n",
      "Film 20 has no description, lemmatization skipped\n",
      "Lemmatized description of film 20 has been inserted into DESCRIPTION_MODIFIED\n",
      "--------\n",
      "Film 21 successfully inserted into table TITLES\n",
      "Film 21's link for picture successfully inserted into table TITLES_IMAGE\n",
      "The error '1452 (23000): Cannot add or update a child row: a foreign key constraint fails (`recsys_project_database`.`names_titles`, CONSTRAINT `names_titles_ibfk_1` FOREIGN KEY (`nconst`) REFERENCES `names` (`nconst`))' occurred\n",
      "The error '1452 (23000): Cannot add or update a child row: a foreign key constraint fails (`recsys_project_database`.`titles_genres`, CONSTRAINT `titles_genres_ibfk_2` FOREIGN KEY (`genre_id`) REFERENCES `genres` (`genre_id`))' occurred\n",
      "Film 21 lemmatized\n",
      "Lemmatized description of film 21 has been inserted into DESCRIPTION_MODIFIED\n",
      "--------\n",
      "Film 22 successfully inserted into table TITLES\n",
      "Film 22's link for picture successfully inserted into table TITLES_IMAGE\n",
      "The error '1452 (23000): Cannot add or update a child row: a foreign key constraint fails (`recsys_project_database`.`names_titles`, CONSTRAINT `names_titles_ibfk_1` FOREIGN KEY (`nconst`) REFERENCES `names` (`nconst`))' occurred\n",
      "The error '1452 (23000): Cannot add or update a child row: a foreign key constraint fails (`recsys_project_database`.`titles_genres`, CONSTRAINT `titles_genres_ibfk_2` FOREIGN KEY (`genre_id`) REFERENCES `genres` (`genre_id`))' occurred\n",
      "Film 22 lemmatized\n",
      "Lemmatized description of film 22 has been inserted into DESCRIPTION_MODIFIED\n",
      "--------\n",
      "Film 23 successfully inserted into table TITLES\n",
      "Film 23's link for picture successfully inserted into table TITLES_IMAGE\n",
      "The error '1452 (23000): Cannot add or update a child row: a foreign key constraint fails (`recsys_project_database`.`names_titles`, CONSTRAINT `names_titles_ibfk_1` FOREIGN KEY (`nconst`) REFERENCES `names` (`nconst`))' occurred\n",
      "The error '1452 (23000): Cannot add or update a child row: a foreign key constraint fails (`recsys_project_database`.`titles_genres`, CONSTRAINT `titles_genres_ibfk_2` FOREIGN KEY (`genre_id`) REFERENCES `genres` (`genre_id`))' occurred\n",
      "Film 23 lemmatized\n",
      "Lemmatized description of film 23 has been inserted into DESCRIPTION_MODIFIED\n",
      "--------\n",
      "Film 24 successfully inserted into table TITLES\n",
      "Film 24's link for picture successfully inserted into table TITLES_IMAGE\n",
      "The error '1452 (23000): Cannot add or update a child row: a foreign key constraint fails (`recsys_project_database`.`names_titles`, CONSTRAINT `names_titles_ibfk_1` FOREIGN KEY (`nconst`) REFERENCES `names` (`nconst`))' occurred\n",
      "The error '1452 (23000): Cannot add or update a child row: a foreign key constraint fails (`recsys_project_database`.`titles_genres`, CONSTRAINT `titles_genres_ibfk_2` FOREIGN KEY (`genre_id`) REFERENCES `genres` (`genre_id`))' occurred\n",
      "Film 24 lemmatized\n",
      "Lemmatized description of film 24 has been inserted into DESCRIPTION_MODIFIED\n",
      "--------\n",
      "Film 25 successfully inserted into table TITLES\n",
      "Film 25's link for picture successfully inserted into table TITLES_IMAGE\n",
      "The error '1452 (23000): Cannot add or update a child row: a foreign key constraint fails (`recsys_project_database`.`names_titles`, CONSTRAINT `names_titles_ibfk_1` FOREIGN KEY (`nconst`) REFERENCES `names` (`nconst`))' occurred\n",
      "The error '1452 (23000): Cannot add or update a child row: a foreign key constraint fails (`recsys_project_database`.`titles_genres`, CONSTRAINT `titles_genres_ibfk_2` FOREIGN KEY (`genre_id`) REFERENCES `genres` (`genre_id`))' occurred\n",
      "Film 25 lemmatized\n",
      "Lemmatized description of film 25 has been inserted into DESCRIPTION_MODIFIED\n",
      "--------\n",
      "Film 26 successfully inserted into table TITLES\n",
      "Film 26's link for picture successfully inserted into table TITLES_IMAGE\n",
      "The error '1452 (23000): Cannot add or update a child row: a foreign key constraint fails (`recsys_project_database`.`names_titles`, CONSTRAINT `names_titles_ibfk_1` FOREIGN KEY (`nconst`) REFERENCES `names` (`nconst`))' occurred\n",
      "The error '1452 (23000): Cannot add or update a child row: a foreign key constraint fails (`recsys_project_database`.`titles_genres`, CONSTRAINT `titles_genres_ibfk_2` FOREIGN KEY (`genre_id`) REFERENCES `genres` (`genre_id`))' occurred\n",
      "Film 26 has no description, lemmatization skipped\n",
      "Lemmatized description of film 26 has been inserted into DESCRIPTION_MODIFIED\n",
      "--------\n",
      "Film 27 successfully inserted into table TITLES\n",
      "Film 27's link for picture successfully inserted into table TITLES_IMAGE\n",
      "The error '1452 (23000): Cannot add or update a child row: a foreign key constraint fails (`recsys_project_database`.`names_titles`, CONSTRAINT `names_titles_ibfk_1` FOREIGN KEY (`nconst`) REFERENCES `names` (`nconst`))' occurred\n",
      "The error '1452 (23000): Cannot add or update a child row: a foreign key constraint fails (`recsys_project_database`.`titles_genres`, CONSTRAINT `titles_genres_ibfk_2` FOREIGN KEY (`genre_id`) REFERENCES `genres` (`genre_id`))' occurred\n",
      "Film 27 lemmatized\n",
      "Lemmatized description of film 27 has been inserted into DESCRIPTION_MODIFIED\n",
      "--------\n",
      "Film 28 successfully inserted into table TITLES\n",
      "Film 28's link for picture successfully inserted into table TITLES_IMAGE\n",
      "The error '1452 (23000): Cannot add or update a child row: a foreign key constraint fails (`recsys_project_database`.`names_titles`, CONSTRAINT `names_titles_ibfk_1` FOREIGN KEY (`nconst`) REFERENCES `names` (`nconst`))' occurred\n",
      "The error '1452 (23000): Cannot add or update a child row: a foreign key constraint fails (`recsys_project_database`.`titles_genres`, CONSTRAINT `titles_genres_ibfk_2` FOREIGN KEY (`genre_id`) REFERENCES `genres` (`genre_id`))' occurred\n",
      "Film 28 lemmatized\n",
      "Lemmatized description of film 28 has been inserted into DESCRIPTION_MODIFIED\n",
      "--------\n",
      "Film 29 successfully inserted into table TITLES\n",
      "Film 29's link for picture successfully inserted into table TITLES_IMAGE\n",
      "The error '1452 (23000): Cannot add or update a child row: a foreign key constraint fails (`recsys_project_database`.`names_titles`, CONSTRAINT `names_titles_ibfk_1` FOREIGN KEY (`nconst`) REFERENCES `names` (`nconst`))' occurred\n",
      "The error '1452 (23000): Cannot add or update a child row: a foreign key constraint fails (`recsys_project_database`.`titles_genres`, CONSTRAINT `titles_genres_ibfk_2` FOREIGN KEY (`genre_id`) REFERENCES `genres` (`genre_id`))' occurred\n",
      "Film 29 lemmatized\n",
      "Lemmatized description of film 29 has been inserted into DESCRIPTION_MODIFIED\n",
      "--------\n",
      "Film 30 successfully inserted into table TITLES\n",
      "Film 30's link for picture successfully inserted into table TITLES_IMAGE\n",
      "The error '1452 (23000): Cannot add or update a child row: a foreign key constraint fails (`recsys_project_database`.`names_titles`, CONSTRAINT `names_titles_ibfk_1` FOREIGN KEY (`nconst`) REFERENCES `names` (`nconst`))' occurred\n",
      "The error '1452 (23000): Cannot add or update a child row: a foreign key constraint fails (`recsys_project_database`.`titles_genres`, CONSTRAINT `titles_genres_ibfk_2` FOREIGN KEY (`genre_id`) REFERENCES `genres` (`genre_id`))' occurred\n",
      "Film 30 lemmatized\n",
      "Lemmatized description of film 30 has been inserted into DESCRIPTION_MODIFIED\n",
      "--------\n",
      "Film 31 successfully inserted into table TITLES\n",
      "Film 31's link for picture successfully inserted into table TITLES_IMAGE\n",
      "The error '1452 (23000): Cannot add or update a child row: a foreign key constraint fails (`recsys_project_database`.`names_titles`, CONSTRAINT `names_titles_ibfk_1` FOREIGN KEY (`nconst`) REFERENCES `names` (`nconst`))' occurred\n",
      "The error '1452 (23000): Cannot add or update a child row: a foreign key constraint fails (`recsys_project_database`.`titles_genres`, CONSTRAINT `titles_genres_ibfk_2` FOREIGN KEY (`genre_id`) REFERENCES `genres` (`genre_id`))' occurred\n",
      "Film 31 lemmatized\n",
      "Lemmatized description of film 31 has been inserted into DESCRIPTION_MODIFIED\n",
      "--------\n",
      "Film 32 successfully inserted into table TITLES\n",
      "Film 32's link for picture successfully inserted into table TITLES_IMAGE\n",
      "The error '1452 (23000): Cannot add or update a child row: a foreign key constraint fails (`recsys_project_database`.`names_titles`, CONSTRAINT `names_titles_ibfk_1` FOREIGN KEY (`nconst`) REFERENCES `names` (`nconst`))' occurred\n",
      "The error '1452 (23000): Cannot add or update a child row: a foreign key constraint fails (`recsys_project_database`.`titles_genres`, CONSTRAINT `titles_genres_ibfk_2` FOREIGN KEY (`genre_id`) REFERENCES `genres` (`genre_id`))' occurred\n",
      "Film 32 lemmatized\n",
      "Lemmatized description of film 32 has been inserted into DESCRIPTION_MODIFIED\n",
      "--------\n",
      "Film 33 successfully inserted into table TITLES\n",
      "Film 33's link for picture successfully inserted into table TITLES_IMAGE\n",
      "The error '1452 (23000): Cannot add or update a child row: a foreign key constraint fails (`recsys_project_database`.`names_titles`, CONSTRAINT `names_titles_ibfk_1` FOREIGN KEY (`nconst`) REFERENCES `names` (`nconst`))' occurred\n",
      "The error '1452 (23000): Cannot add or update a child row: a foreign key constraint fails (`recsys_project_database`.`titles_genres`, CONSTRAINT `titles_genres_ibfk_2` FOREIGN KEY (`genre_id`) REFERENCES `genres` (`genre_id`))' occurred\n",
      "Film 33 lemmatized\n",
      "Lemmatized description of film 33 has been inserted into DESCRIPTION_MODIFIED\n",
      "--------\n",
      "Film 34 successfully inserted into table TITLES\n",
      "Film 34's link for picture successfully inserted into table TITLES_IMAGE\n",
      "The error '1452 (23000): Cannot add or update a child row: a foreign key constraint fails (`recsys_project_database`.`names_titles`, CONSTRAINT `names_titles_ibfk_1` FOREIGN KEY (`nconst`) REFERENCES `names` (`nconst`))' occurred\n",
      "The error '1452 (23000): Cannot add or update a child row: a foreign key constraint fails (`recsys_project_database`.`titles_genres`, CONSTRAINT `titles_genres_ibfk_2` FOREIGN KEY (`genre_id`) REFERENCES `genres` (`genre_id`))' occurred\n",
      "Film 34 lemmatized\n",
      "Lemmatized description of film 34 has been inserted into DESCRIPTION_MODIFIED\n",
      "--------\n",
      "Film 35 successfully inserted into table TITLES\n",
      "Film 35's link for picture successfully inserted into table TITLES_IMAGE\n",
      "The error '1452 (23000): Cannot add or update a child row: a foreign key constraint fails (`recsys_project_database`.`names_titles`, CONSTRAINT `names_titles_ibfk_1` FOREIGN KEY (`nconst`) REFERENCES `names` (`nconst`))' occurred\n",
      "The error '1452 (23000): Cannot add or update a child row: a foreign key constraint fails (`recsys_project_database`.`titles_genres`, CONSTRAINT `titles_genres_ibfk_2` FOREIGN KEY (`genre_id`) REFERENCES `genres` (`genre_id`))' occurred\n",
      "Film 35 lemmatized\n",
      "Lemmatized description of film 35 has been inserted into DESCRIPTION_MODIFIED\n",
      "--------\n",
      "Film 36 successfully inserted into table TITLES\n",
      "Film 36's link for picture successfully inserted into table TITLES_IMAGE\n",
      "The error '1452 (23000): Cannot add or update a child row: a foreign key constraint fails (`recsys_project_database`.`names_titles`, CONSTRAINT `names_titles_ibfk_1` FOREIGN KEY (`nconst`) REFERENCES `names` (`nconst`))' occurred\n",
      "The error '1452 (23000): Cannot add or update a child row: a foreign key constraint fails (`recsys_project_database`.`titles_genres`, CONSTRAINT `titles_genres_ibfk_2` FOREIGN KEY (`genre_id`) REFERENCES `genres` (`genre_id`))' occurred\n",
      "Film 36 has no description, lemmatization skipped\n",
      "Lemmatized description of film 36 has been inserted into DESCRIPTION_MODIFIED\n",
      "--------\n",
      "Film 37 successfully inserted into table TITLES\n",
      "Film 37's link for picture successfully inserted into table TITLES_IMAGE\n",
      "The error '1452 (23000): Cannot add or update a child row: a foreign key constraint fails (`recsys_project_database`.`names_titles`, CONSTRAINT `names_titles_ibfk_1` FOREIGN KEY (`nconst`) REFERENCES `names` (`nconst`))' occurred\n",
      "The error '1452 (23000): Cannot add or update a child row: a foreign key constraint fails (`recsys_project_database`.`titles_genres`, CONSTRAINT `titles_genres_ibfk_2` FOREIGN KEY (`genre_id`) REFERENCES `genres` (`genre_id`))' occurred\n",
      "Film 37 lemmatized\n",
      "Lemmatized description of film 37 has been inserted into DESCRIPTION_MODIFIED\n",
      "--------\n",
      "Film 38 successfully inserted into table TITLES\n",
      "Film 38's link for picture successfully inserted into table TITLES_IMAGE\n",
      "no names for this film\n",
      "The error '1452 (23000): Cannot add or update a child row: a foreign key constraint fails (`recsys_project_database`.`titles_genres`, CONSTRAINT `titles_genres_ibfk_2` FOREIGN KEY (`genre_id`) REFERENCES `genres` (`genre_id`))' occurred\n",
      "Film 38 lemmatized\n",
      "Lemmatized description of film 38 has been inserted into DESCRIPTION_MODIFIED\n",
      "--------\n",
      "Film 39 successfully inserted into table TITLES\n",
      "Film 39's link for picture successfully inserted into table TITLES_IMAGE\n",
      "The error '1452 (23000): Cannot add or update a child row: a foreign key constraint fails (`recsys_project_database`.`names_titles`, CONSTRAINT `names_titles_ibfk_1` FOREIGN KEY (`nconst`) REFERENCES `names` (`nconst`))' occurred\n",
      "The error '1452 (23000): Cannot add or update a child row: a foreign key constraint fails (`recsys_project_database`.`titles_genres`, CONSTRAINT `titles_genres_ibfk_2` FOREIGN KEY (`genre_id`) REFERENCES `genres` (`genre_id`))' occurred\n",
      "Film 39 lemmatized\n",
      "Lemmatized description of film 39 has been inserted into DESCRIPTION_MODIFIED\n",
      "--------\n",
      "Film 40 successfully inserted into table TITLES\n",
      "Film 40's link for picture successfully inserted into table TITLES_IMAGE\n",
      "The error '1452 (23000): Cannot add or update a child row: a foreign key constraint fails (`recsys_project_database`.`names_titles`, CONSTRAINT `names_titles_ibfk_1` FOREIGN KEY (`nconst`) REFERENCES `names` (`nconst`))' occurred\n",
      "The error '1452 (23000): Cannot add or update a child row: a foreign key constraint fails (`recsys_project_database`.`titles_genres`, CONSTRAINT `titles_genres_ibfk_2` FOREIGN KEY (`genre_id`) REFERENCES `genres` (`genre_id`))' occurred\n",
      "Film 40 lemmatized\n",
      "Lemmatized description of film 40 has been inserted into DESCRIPTION_MODIFIED\n",
      "--------\n",
      "Film 41 successfully inserted into table TITLES\n",
      "Film 41's link for picture successfully inserted into table TITLES_IMAGE\n",
      "The error '1452 (23000): Cannot add or update a child row: a foreign key constraint fails (`recsys_project_database`.`names_titles`, CONSTRAINT `names_titles_ibfk_1` FOREIGN KEY (`nconst`) REFERENCES `names` (`nconst`))' occurred\n",
      "The error '1452 (23000): Cannot add or update a child row: a foreign key constraint fails (`recsys_project_database`.`titles_genres`, CONSTRAINT `titles_genres_ibfk_2` FOREIGN KEY (`genre_id`) REFERENCES `genres` (`genre_id`))' occurred\n",
      "Film 41 lemmatized\n",
      "Lemmatized description of film 41 has been inserted into DESCRIPTION_MODIFIED\n",
      "--------\n",
      "Film 42 successfully inserted into table TITLES\n",
      "Film 42's link for picture successfully inserted into table TITLES_IMAGE\n",
      "The error '1452 (23000): Cannot add or update a child row: a foreign key constraint fails (`recsys_project_database`.`names_titles`, CONSTRAINT `names_titles_ibfk_1` FOREIGN KEY (`nconst`) REFERENCES `names` (`nconst`))' occurred\n",
      "The error '1452 (23000): Cannot add or update a child row: a foreign key constraint fails (`recsys_project_database`.`titles_genres`, CONSTRAINT `titles_genres_ibfk_2` FOREIGN KEY (`genre_id`) REFERENCES `genres` (`genre_id`))' occurred\n",
      "Film 42 lemmatized\n",
      "Lemmatized description of film 42 has been inserted into DESCRIPTION_MODIFIED\n",
      "--------\n",
      "Film 43 successfully inserted into table TITLES\n",
      "Film 43's link for picture successfully inserted into table TITLES_IMAGE\n",
      "The error '1452 (23000): Cannot add or update a child row: a foreign key constraint fails (`recsys_project_database`.`names_titles`, CONSTRAINT `names_titles_ibfk_1` FOREIGN KEY (`nconst`) REFERENCES `names` (`nconst`))' occurred\n",
      "The error '1452 (23000): Cannot add or update a child row: a foreign key constraint fails (`recsys_project_database`.`titles_genres`, CONSTRAINT `titles_genres_ibfk_2` FOREIGN KEY (`genre_id`) REFERENCES `genres` (`genre_id`))' occurred\n",
      "Film 43 lemmatized\n",
      "Lemmatized description of film 43 has been inserted into DESCRIPTION_MODIFIED\n",
      "--------\n",
      "Film 44 successfully inserted into table TITLES\n",
      "Film 44's link for picture successfully inserted into table TITLES_IMAGE\n",
      "The error '1452 (23000): Cannot add or update a child row: a foreign key constraint fails (`recsys_project_database`.`names_titles`, CONSTRAINT `names_titles_ibfk_1` FOREIGN KEY (`nconst`) REFERENCES `names` (`nconst`))' occurred\n",
      "The error '1452 (23000): Cannot add or update a child row: a foreign key constraint fails (`recsys_project_database`.`titles_genres`, CONSTRAINT `titles_genres_ibfk_2` FOREIGN KEY (`genre_id`) REFERENCES `genres` (`genre_id`))' occurred\n",
      "Film 44 lemmatized\n",
      "Lemmatized description of film 44 has been inserted into DESCRIPTION_MODIFIED\n",
      "--------\n",
      "Film 45 successfully inserted into table TITLES\n",
      "Film 45's link for picture successfully inserted into table TITLES_IMAGE\n",
      "The error '1452 (23000): Cannot add or update a child row: a foreign key constraint fails (`recsys_project_database`.`names_titles`, CONSTRAINT `names_titles_ibfk_1` FOREIGN KEY (`nconst`) REFERENCES `names` (`nconst`))' occurred\n",
      "The error '1452 (23000): Cannot add or update a child row: a foreign key constraint fails (`recsys_project_database`.`titles_genres`, CONSTRAINT `titles_genres_ibfk_2` FOREIGN KEY (`genre_id`) REFERENCES `genres` (`genre_id`))' occurred\n",
      "Film 45 lemmatized\n",
      "Lemmatized description of film 45 has been inserted into DESCRIPTION_MODIFIED\n",
      "--------\n",
      "Film 46 successfully inserted into table TITLES\n",
      "Film 46's link for picture successfully inserted into table TITLES_IMAGE\n",
      "ERROR: 'tt27352646'\n",
      "Film 46 skipped\n",
      "--------\n",
      "Film 47 successfully inserted into table TITLES\n",
      "Film 47's link for picture successfully inserted into table TITLES_IMAGE\n",
      "The error '1452 (23000): Cannot add or update a child row: a foreign key constraint fails (`recsys_project_database`.`names_titles`, CONSTRAINT `names_titles_ibfk_1` FOREIGN KEY (`nconst`) REFERENCES `names` (`nconst`))' occurred\n",
      "The error '1452 (23000): Cannot add or update a child row: a foreign key constraint fails (`recsys_project_database`.`titles_genres`, CONSTRAINT `titles_genres_ibfk_2` FOREIGN KEY (`genre_id`) REFERENCES `genres` (`genre_id`))' occurred\n",
      "Film 47 lemmatized\n",
      "Lemmatized description of film 47 has been inserted into DESCRIPTION_MODIFIED\n",
      "--------\n",
      "Film 48 successfully inserted into table TITLES\n",
      "Film 48's link for picture successfully inserted into table TITLES_IMAGE\n",
      "The error '1452 (23000): Cannot add or update a child row: a foreign key constraint fails (`recsys_project_database`.`names_titles`, CONSTRAINT `names_titles_ibfk_1` FOREIGN KEY (`nconst`) REFERENCES `names` (`nconst`))' occurred\n",
      "The error '1452 (23000): Cannot add or update a child row: a foreign key constraint fails (`recsys_project_database`.`titles_genres`, CONSTRAINT `titles_genres_ibfk_2` FOREIGN KEY (`genre_id`) REFERENCES `genres` (`genre_id`))' occurred\n",
      "Film 48 lemmatized\n",
      "Lemmatized description of film 48 has been inserted into DESCRIPTION_MODIFIED\n",
      "--------\n",
      "Film 49 successfully inserted into table TITLES\n",
      "Film 49's link for picture successfully inserted into table TITLES_IMAGE\n",
      "ERROR: 'tt27627455'\n",
      "Film 49 skipped\n",
      "--------\n",
      "Film 50 successfully inserted into table TITLES\n",
      "Film 50's link for picture successfully inserted into table TITLES_IMAGE\n",
      "no names for this film\n",
      "ERROR: 'tt29552923'\n",
      "Film 50 skipped\n",
      "--------\n",
      "Film 51 successfully inserted into table TITLES\n",
      "Film 51's link for picture successfully inserted into table TITLES_IMAGE\n",
      "The error '1452 (23000): Cannot add or update a child row: a foreign key constraint fails (`recsys_project_database`.`names_titles`, CONSTRAINT `names_titles_ibfk_1` FOREIGN KEY (`nconst`) REFERENCES `names` (`nconst`))' occurred\n",
      "ERROR: 'tt28095708'\n",
      "Film 51 skipped\n",
      "--------\n",
      "Film 52 successfully inserted into table TITLES\n",
      "Film 52's link for picture successfully inserted into table TITLES_IMAGE\n",
      "The error '1452 (23000): Cannot add or update a child row: a foreign key constraint fails (`recsys_project_database`.`names_titles`, CONSTRAINT `names_titles_ibfk_1` FOREIGN KEY (`nconst`) REFERENCES `names` (`nconst`))' occurred\n",
      "ERROR: 'tt14097206'\n",
      "Film 52 skipped\n",
      "--------\n",
      "Film 53 successfully inserted into table TITLES\n",
      "Film 53's link for picture successfully inserted into table TITLES_IMAGE\n",
      "The error '1452 (23000): Cannot add or update a child row: a foreign key constraint fails (`recsys_project_database`.`names_titles`, CONSTRAINT `names_titles_ibfk_1` FOREIGN KEY (`nconst`) REFERENCES `names` (`nconst`))' occurred\n",
      "ERROR: 'tt28486112'\n",
      "Film 53 skipped\n",
      "--------\n"
     ]
    },
    {
     "ename": "KeyboardInterrupt",
     "evalue": "",
     "output_type": "error",
     "traceback": [
      "\u001B[1;31m---------------------------------------------------------------------------\u001B[0m",
      "\u001B[1;31mKeyboardInterrupt\u001B[0m                         Traceback (most recent call last)",
      "Cell \u001B[1;32mIn[58], line 17\u001B[0m\n\u001B[0;32m     11\u001B[0m \u001B[38;5;28;01mtry\u001B[39;00m:\n\u001B[0;32m     12\u001B[0m     \u001B[38;5;66;03m# Insert into titles\u001B[39;00m\n\u001B[0;32m     13\u001B[0m     insert_query_titles \u001B[38;5;241m=\u001B[39m \u001B[38;5;124m\"\"\"\u001B[39m\n\u001B[0;32m     14\u001B[0m \u001B[38;5;124m    INSERT IGNORE INTO titles (tconst, title_type, title_name, description, year_start, year_end, is_adult)\u001B[39m\n\u001B[0;32m     15\u001B[0m \u001B[38;5;124m    VALUES (\u001B[39m\u001B[38;5;132;01m%s\u001B[39;00m\u001B[38;5;124m, \u001B[39m\u001B[38;5;132;01m%s\u001B[39;00m\u001B[38;5;124m, \u001B[39m\u001B[38;5;132;01m%s\u001B[39;00m\u001B[38;5;124m, \u001B[39m\u001B[38;5;132;01m%s\u001B[39;00m\u001B[38;5;124m, \u001B[39m\u001B[38;5;132;01m%s\u001B[39;00m\u001B[38;5;124m, \u001B[39m\u001B[38;5;132;01m%s\u001B[39;00m\u001B[38;5;124m, \u001B[39m\u001B[38;5;132;01m%s\u001B[39;00m\u001B[38;5;124m)\u001B[39m\n\u001B[0;32m     16\u001B[0m \u001B[38;5;124m    \u001B[39m\u001B[38;5;124m\"\"\"\u001B[39m\n\u001B[1;32m---> 17\u001B[0m     \u001B[43mcursor\u001B[49m\u001B[38;5;241;43m.\u001B[39;49m\u001B[43mexecute\u001B[49m\u001B[43m(\u001B[49m\u001B[43minsert_query_titles\u001B[49m\u001B[43m,\u001B[49m\u001B[43m \u001B[49m\u001B[43m[\u001B[49m\u001B[43mdata_listed\u001B[49m\u001B[43m[\u001B[49m\u001B[43md\u001B[49m\u001B[43m]\u001B[49m\u001B[43m[\u001B[49m\u001B[38;5;241;43m0\u001B[39;49m\u001B[43m]\u001B[49m\u001B[43m,\u001B[49m\u001B[43m \u001B[49m\u001B[43mdata_listed\u001B[49m\u001B[43m[\u001B[49m\u001B[43md\u001B[49m\u001B[43m]\u001B[49m\u001B[43m[\u001B[49m\u001B[38;5;241;43m1\u001B[39;49m\u001B[43m]\u001B[49m\u001B[43m,\u001B[49m\u001B[43m \u001B[49m\u001B[43mdata_listed\u001B[49m\u001B[43m[\u001B[49m\u001B[43md\u001B[49m\u001B[43m]\u001B[49m\u001B[43m[\u001B[49m\u001B[38;5;241;43m2\u001B[39;49m\u001B[43m]\u001B[49m\u001B[43m,\u001B[49m\u001B[43m \u001B[49m\u001B[43mdata_listed\u001B[49m\u001B[43m[\u001B[49m\u001B[43md\u001B[49m\u001B[43m]\u001B[49m\u001B[43m[\u001B[49m\u001B[38;5;241;43m10\u001B[39;49m\u001B[43m]\u001B[49m\u001B[43m,\u001B[49m\u001B[43m \u001B[49m\u001B[43mdata_listed\u001B[49m\u001B[43m[\u001B[49m\u001B[43md\u001B[49m\u001B[43m]\u001B[49m\u001B[43m[\u001B[49m\u001B[38;5;241;43m5\u001B[39;49m\u001B[43m]\u001B[49m\u001B[43m,\u001B[49m\u001B[43m \u001B[49m\u001B[43mdata_listed\u001B[49m\u001B[43m[\u001B[49m\u001B[43md\u001B[49m\u001B[43m]\u001B[49m\u001B[43m[\u001B[49m\u001B[38;5;241;43m6\u001B[39;49m\u001B[43m]\u001B[49m\u001B[43m,\u001B[49m\u001B[43m \u001B[49m\u001B[43mdata_listed\u001B[49m\u001B[43m[\u001B[49m\u001B[43md\u001B[49m\u001B[43m]\u001B[49m\u001B[43m[\u001B[49m\u001B[38;5;241;43m4\u001B[39;49m\u001B[43m]\u001B[49m\u001B[43m]\u001B[49m\u001B[43m)\u001B[49m\n\u001B[0;32m     18\u001B[0m     connection\u001B[38;5;241m.\u001B[39mcommit()\n\u001B[0;32m     19\u001B[0m     \u001B[38;5;28mprint\u001B[39m(\u001B[38;5;124mf\u001B[39m\u001B[38;5;124m\"\u001B[39m\u001B[38;5;124mFilm \u001B[39m\u001B[38;5;132;01m{\u001B[39;00md\u001B[38;5;132;01m}\u001B[39;00m\u001B[38;5;124m successfully inserted into table TITLES\u001B[39m\u001B[38;5;124m\"\u001B[39m)\n",
      "File \u001B[1;32m~\\YandexDisk-makorablina@edu.hse.ru\\CodingProjects\\recsys_project\\.venv\\Lib\\site-packages\\mysql\\connector\\cursor_cext.py:372\u001B[0m, in \u001B[0;36mCMySQLCursor.execute\u001B[1;34m(self, operation, params, multi)\u001B[0m\n\u001B[0;32m    367\u001B[0m             \u001B[38;5;28;01mraise\u001B[39;00m ProgrammingError(\n\u001B[0;32m    368\u001B[0m                 \u001B[38;5;124m\"\u001B[39m\u001B[38;5;124mNot all parameters were used in the SQL statement\u001B[39m\u001B[38;5;124m\"\u001B[39m\n\u001B[0;32m    369\u001B[0m             )\n\u001B[0;32m    371\u001B[0m \u001B[38;5;28;01mtry\u001B[39;00m:\n\u001B[1;32m--> 372\u001B[0m     result \u001B[38;5;241m=\u001B[39m \u001B[38;5;28;43mself\u001B[39;49m\u001B[38;5;241;43m.\u001B[39;49m\u001B[43m_cnx\u001B[49m\u001B[38;5;241;43m.\u001B[39;49m\u001B[43mcmd_query\u001B[49m\u001B[43m(\u001B[49m\n\u001B[0;32m    373\u001B[0m \u001B[43m        \u001B[49m\u001B[43mstmt\u001B[49m\u001B[43m,\u001B[49m\n\u001B[0;32m    374\u001B[0m \u001B[43m        \u001B[49m\u001B[43mraw\u001B[49m\u001B[38;5;241;43m=\u001B[39;49m\u001B[38;5;28;43mself\u001B[39;49m\u001B[38;5;241;43m.\u001B[39;49m\u001B[43m_raw\u001B[49m\u001B[43m,\u001B[49m\n\u001B[0;32m    375\u001B[0m \u001B[43m        \u001B[49m\u001B[43mbuffered\u001B[49m\u001B[38;5;241;43m=\u001B[39;49m\u001B[38;5;28;43mself\u001B[39;49m\u001B[38;5;241;43m.\u001B[39;49m\u001B[43m_buffered\u001B[49m\u001B[43m,\u001B[49m\n\u001B[0;32m    376\u001B[0m \u001B[43m        \u001B[49m\u001B[43mraw_as_string\u001B[49m\u001B[38;5;241;43m=\u001B[39;49m\u001B[38;5;28;43mself\u001B[39;49m\u001B[38;5;241;43m.\u001B[39;49m\u001B[43m_raw_as_string\u001B[49m\u001B[43m,\u001B[49m\n\u001B[0;32m    377\u001B[0m \u001B[43m    \u001B[49m\u001B[43m)\u001B[49m\n\u001B[0;32m    378\u001B[0m \u001B[38;5;28;01mexcept\u001B[39;00m MySQLInterfaceError \u001B[38;5;28;01mas\u001B[39;00m err:\n\u001B[0;32m    379\u001B[0m     \u001B[38;5;28;01mraise\u001B[39;00m get_mysql_exception(\n\u001B[0;32m    380\u001B[0m         msg\u001B[38;5;241m=\u001B[39merr\u001B[38;5;241m.\u001B[39mmsg, errno\u001B[38;5;241m=\u001B[39merr\u001B[38;5;241m.\u001B[39merrno, sqlstate\u001B[38;5;241m=\u001B[39merr\u001B[38;5;241m.\u001B[39msqlstate\n\u001B[0;32m    381\u001B[0m     ) \u001B[38;5;28;01mfrom\u001B[39;00m \u001B[38;5;21;01merr\u001B[39;00m\n",
      "File \u001B[1;32m~\\YandexDisk-makorablina@edu.hse.ru\\CodingProjects\\recsys_project\\.venv\\Lib\\site-packages\\mysql\\connector\\opentelemetry\\context_propagation.py:102\u001B[0m, in \u001B[0;36mwith_context_propagation.<locals>.wrapper\u001B[1;34m(cnx, *args, **kwargs)\u001B[0m\n\u001B[0;32m    100\u001B[0m \u001B[38;5;250m\u001B[39m\u001B[38;5;124;03m\"\"\"Context propagation decorator.\"\"\"\u001B[39;00m\n\u001B[0;32m    101\u001B[0m \u001B[38;5;28;01mif\u001B[39;00m \u001B[38;5;129;01mnot\u001B[39;00m OTEL_ENABLED \u001B[38;5;129;01mor\u001B[39;00m \u001B[38;5;129;01mnot\u001B[39;00m cnx\u001B[38;5;241m.\u001B[39motel_context_propagation:\n\u001B[1;32m--> 102\u001B[0m     \u001B[38;5;28;01mreturn\u001B[39;00m \u001B[43mmethod\u001B[49m\u001B[43m(\u001B[49m\u001B[43mcnx\u001B[49m\u001B[43m,\u001B[49m\u001B[43m \u001B[49m\u001B[38;5;241;43m*\u001B[39;49m\u001B[43margs\u001B[49m\u001B[43m,\u001B[49m\u001B[43m \u001B[49m\u001B[38;5;241;43m*\u001B[39;49m\u001B[38;5;241;43m*\u001B[39;49m\u001B[43mkwargs\u001B[49m\u001B[43m)\u001B[49m\n\u001B[0;32m    104\u001B[0m current_span \u001B[38;5;241m=\u001B[39m trace\u001B[38;5;241m.\u001B[39mget_current_span()\n\u001B[0;32m    105\u001B[0m tp_header \u001B[38;5;241m=\u001B[39m \u001B[38;5;28;01mNone\u001B[39;00m\n",
      "File \u001B[1;32m~\\YandexDisk-makorablina@edu.hse.ru\\CodingProjects\\recsys_project\\.venv\\Lib\\site-packages\\mysql\\connector\\connection_cext.py:697\u001B[0m, in \u001B[0;36mCMySQLConnection.cmd_query\u001B[1;34m(self, query, raw, buffered, raw_as_string)\u001B[0m\n\u001B[0;32m    695\u001B[0m     \u001B[38;5;28;01mif\u001B[39;00m \u001B[38;5;129;01mnot\u001B[39;00m \u001B[38;5;28misinstance\u001B[39m(query, \u001B[38;5;28mbytes\u001B[39m):\n\u001B[0;32m    696\u001B[0m         query \u001B[38;5;241m=\u001B[39m query\u001B[38;5;241m.\u001B[39mencode(\u001B[38;5;124m\"\u001B[39m\u001B[38;5;124mutf-8\u001B[39m\u001B[38;5;124m\"\u001B[39m)\n\u001B[1;32m--> 697\u001B[0m     \u001B[38;5;28;43mself\u001B[39;49m\u001B[38;5;241;43m.\u001B[39;49m\u001B[43m_cmysql\u001B[49m\u001B[38;5;241;43m.\u001B[39;49m\u001B[43mquery\u001B[49m\u001B[43m(\u001B[49m\n\u001B[0;32m    698\u001B[0m \u001B[43m        \u001B[49m\u001B[43mquery\u001B[49m\u001B[43m,\u001B[49m\n\u001B[0;32m    699\u001B[0m \u001B[43m        \u001B[49m\u001B[43mraw\u001B[49m\u001B[38;5;241;43m=\u001B[39;49m\u001B[43mraw\u001B[49m\u001B[43m,\u001B[49m\n\u001B[0;32m    700\u001B[0m \u001B[43m        \u001B[49m\u001B[43mbuffered\u001B[49m\u001B[38;5;241;43m=\u001B[39;49m\u001B[43mbuffered\u001B[49m\u001B[43m,\u001B[49m\n\u001B[0;32m    701\u001B[0m \u001B[43m        \u001B[49m\u001B[43mraw_as_string\u001B[49m\u001B[38;5;241;43m=\u001B[39;49m\u001B[43mraw_as_string\u001B[49m\u001B[43m,\u001B[49m\n\u001B[0;32m    702\u001B[0m \u001B[43m        \u001B[49m\u001B[43mquery_attrs\u001B[49m\u001B[38;5;241;43m=\u001B[39;49m\u001B[38;5;28;43mself\u001B[39;49m\u001B[38;5;241;43m.\u001B[39;49m\u001B[43mquery_attrs\u001B[49m\u001B[43m,\u001B[49m\n\u001B[0;32m    703\u001B[0m \u001B[43m    \u001B[49m\u001B[43m)\u001B[49m\n\u001B[0;32m    704\u001B[0m \u001B[38;5;28;01mexcept\u001B[39;00m MySQLInterfaceError \u001B[38;5;28;01mas\u001B[39;00m err:\n\u001B[0;32m    705\u001B[0m     \u001B[38;5;28;01mraise\u001B[39;00m get_mysql_exception(\n\u001B[0;32m    706\u001B[0m         err\u001B[38;5;241m.\u001B[39merrno, msg\u001B[38;5;241m=\u001B[39merr\u001B[38;5;241m.\u001B[39mmsg, sqlstate\u001B[38;5;241m=\u001B[39merr\u001B[38;5;241m.\u001B[39msqlstate\n\u001B[0;32m    707\u001B[0m     ) \u001B[38;5;28;01mfrom\u001B[39;00m \u001B[38;5;21;01merr\u001B[39;00m\n",
      "\u001B[1;31mKeyboardInterrupt\u001B[0m: "
     ]
    }
   ],
   "execution_count": 58
  },
  {
   "metadata": {},
   "cell_type": "code",
   "source": [],
   "id": "1781acb9934b0516",
   "outputs": [],
   "execution_count": null
  },
  {
   "metadata": {},
   "cell_type": "code",
   "source": [],
   "id": "c363fe5be1ebb487",
   "outputs": [],
   "execution_count": null
  },
  {
   "metadata": {},
   "cell_type": "code",
   "source": [],
   "id": "793f52d9dd6367e2",
   "outputs": [],
   "execution_count": null
  },
  {
   "metadata": {},
   "cell_type": "code",
   "source": [],
   "id": "76565ab74b8df95",
   "outputs": [],
   "execution_count": null
  },
  {
   "metadata": {},
   "cell_type": "code",
   "source": [],
   "id": "bb3f7a4788a768cf",
   "outputs": [],
   "execution_count": null
  },
  {
   "metadata": {},
   "cell_type": "code",
   "source": [],
   "id": "cb2280d57a37bc9e",
   "outputs": [],
   "execution_count": null
  },
  {
   "metadata": {},
   "cell_type": "code",
   "source": [],
   "id": "c2d26819fb93d3e7",
   "outputs": [],
   "execution_count": null
  },
  {
   "metadata": {},
   "cell_type": "code",
   "source": [],
   "id": "183ceb9ca404b806",
   "outputs": [],
   "execution_count": null
  },
  {
   "metadata": {},
   "cell_type": "code",
   "source": [],
   "id": "e547689a2be46553",
   "outputs": [],
   "execution_count": null
  },
  {
   "metadata": {},
   "cell_type": "code",
   "source": [],
   "id": "2776bc5c93db85",
   "outputs": [],
   "execution_count": null
  },
  {
   "metadata": {},
   "cell_type": "code",
   "source": [],
   "id": "386da9b9df09fb88",
   "outputs": [],
   "execution_count": null
  },
  {
   "metadata": {},
   "cell_type": "code",
   "source": [],
   "id": "b93e93cdca00cc60",
   "outputs": [],
   "execution_count": null
  },
  {
   "metadata": {},
   "cell_type": "code",
   "source": [
    "query = \"SELECT COUNT(*) AS total_rows FROM titles;\"\n",
    "connection = create_connection(host_name, user_name, user_password, db_name, port)\n",
    "cursor = connection.cursor()\n",
    "# Execute the query\n",
    "cursor.execute(query)\n",
    "\n",
    "# Fetch the result\n",
    "result = cursor.fetchone()\n",
    "\n",
    "# Print the result\n",
    "print(f\"Total rows in titles table: {result[0]}\")\n",
    "\n",
    "# Close the cursor and the connection\n",
    "cursor.close()\n",
    "connection.close()"
   ],
   "id": "ac4a11e6088a4780",
   "outputs": [],
   "execution_count": null
  },
  {
   "metadata": {},
   "cell_type": "code",
   "source": [],
   "id": "c492a85a604fe8cf",
   "outputs": [],
   "execution_count": null
  },
  {
   "metadata": {},
   "cell_type": "code",
   "source": [],
   "id": "f95f50171e087318",
   "outputs": [],
   "execution_count": null
  },
  {
   "metadata": {},
   "cell_type": "code",
   "source": [],
   "id": "1d24faa30e48bfdb",
   "outputs": [],
   "execution_count": null
  },
  {
   "metadata": {},
   "cell_type": "code",
   "source": [],
   "id": "96507011d3b78237",
   "outputs": [],
   "execution_count": null
  },
  {
   "metadata": {},
   "cell_type": "code",
   "source": [],
   "id": "be3a1d2f4aed0c7b",
   "outputs": [],
   "execution_count": null
  },
  {
   "metadata": {},
   "cell_type": "code",
   "source": [],
   "id": "a5de558d75af6450",
   "outputs": [],
   "execution_count": null
  },
  {
   "metadata": {},
   "cell_type": "code",
   "source": [],
   "id": "7c5495849db69d87",
   "outputs": [],
   "execution_count": null
  },
  {
   "metadata": {},
   "cell_type": "code",
   "source": [],
   "id": "9c53d4d05a100563",
   "outputs": [],
   "execution_count": null
  },
  {
   "metadata": {},
   "cell_type": "code",
   "source": [],
   "id": "5c6187d8d12a49d1",
   "outputs": [],
   "execution_count": null
  },
  {
   "metadata": {},
   "cell_type": "code",
   "source": [],
   "id": "86d9c3e377513a4a",
   "outputs": [],
   "execution_count": null
  },
  {
   "metadata": {},
   "cell_type": "code",
   "source": [],
   "id": "99a4c32a39c905fc",
   "outputs": [],
   "execution_count": null
  },
  {
   "metadata": {},
   "cell_type": "code",
   "source": [],
   "id": "eb7baf63c542ef1c",
   "outputs": [],
   "execution_count": null
  },
  {
   "cell_type": "code",
   "source": [
    "insert_query = \"\"\"\n",
    "    INSERT IGNORE INTO titles_image (tconst, image_url)\n",
    "    VALUES (%s, %s)\n",
    "    \"\"\"\n",
    "a = 0\n",
    "cursor = connection.cursor()\n",
    "for l in range(60051+1821+186+449, len(links_titles)):\n",
    "    cursor.execute(insert_query, l)\n",
    "    connection.commit()\n",
    "    a += 1\n",
    "    print(f'{a} rows inserted successfully')\n",
    "# def rec(start, a):\n",
    "#     try:\n",
    "#         for i in range(start, len(links_titles), 500):\n",
    "#             batch = links_titles[i:i + 500]\n",
    "#             cursor.executemany(insert_query, batch)\n",
    "#             connection.commit()\n",
    "#             a += cursor.rowcount\n",
    "#             if cursor.rowcount == 0:\n",
    "#                 rec(start + a, a)\n",
    "#             print(f\"{cursor.rowcount} movies inserted successfully\")\n",
    "#             print(f\"Total rows inserted: {a}\")\n",
    "#             time.sleep(0.1)\n",
    "#     except Error as e:\n",
    "#         print(f\"The error '{e}' occurred\")\n",
    "# rec(60051+1821+186+449, a)\n",
    "# Вставка данных порциями по 1000 записей\n",
    "# try:\n",
    "#     for i in range(60051+1821+186+449, len(links_titles), 500):\n",
    "#         batch = links_titles[i:i + 500]\n",
    "#         cursor.executemany(insert_query, batch)\n",
    "#         connection.commit()\n",
    "#         a += cursor.rowcount\n",
    "#         print(f\"{cursor.rowcount} movies inserted successfully\")\n",
    "#         print(f\"Total rows inserted: {a}\")\n",
    "#         time.sleep(0.1)\n",
    "# except Error as e:\n",
    "#     print(f\"The error '{e}' occurred\")\n",
    "\n",
    "# Закрытие курсора после завершения работы\n",
    "cursor.close()\n",
    "# 59050"
   ],
   "metadata": {
    "collapsed": false
   },
   "id": "f64cc9b0e0e91e97",
   "outputs": [],
   "execution_count": null
  },
  {
   "cell_type": "code",
   "source": [
    "count_query = f\"SELECT COUNT(*) FROM titles_image\"\n",
    "cursor = connection.cursor()\n",
    "try:\n",
    "    cursor.execute(count_query)\n",
    "    row_count = cursor.fetchone()[0]\n",
    "    print(f\"Number of rows in 'titles_image' table: {row_count}\")\n",
    "except Error as e:\n",
    "    print(f\"The error '{e}' occurred\")\n",
    "finally:\n",
    "    cursor.close()"
   ],
   "metadata": {
    "collapsed": false
   },
   "id": "3024df9c9e554a7a",
   "outputs": [],
   "execution_count": null
  },
  {
   "cell_type": "code",
   "source": [],
   "metadata": {
    "collapsed": false
   },
   "id": "737f5a917e8c87dd",
   "outputs": [],
   "execution_count": null
  },
  {
   "cell_type": "code",
   "source": [],
   "metadata": {
    "collapsed": false
   },
   "id": "6c06f353f272ff88",
   "outputs": [],
   "execution_count": null
  },
  {
   "cell_type": "code",
   "source": [],
   "metadata": {
    "collapsed": false
   },
   "id": "5fde39e97434731d",
   "outputs": [],
   "execution_count": null
  },
  {
   "cell_type": "code",
   "source": [],
   "metadata": {
    "collapsed": false
   },
   "id": "5b3ada2ccde25fcc",
   "outputs": [],
   "execution_count": null
  },
  {
   "cell_type": "code",
   "source": [
    "query = \"\"\"\n",
    "SELECT t.tconst, t.title_type, t.title_name, t.description AS original_description, \n",
    "       dm.description AS modified_description, t.year_start, t.year_end, t.is_adult\n",
    "FROM titles t\n",
    "LEFT JOIN description_modified dm ON t.tconst = dm.tconst\n",
    "LIMIT 5;\n",
    "\"\"\"\n",
    "connection = create_connection(host_name, user_name, user_password, db_name, port)\n",
    "cursor = connection.cursor()\n",
    "# Execute the query\n",
    "cursor.execute(query)\n",
    "\n",
    "# Fetch the results\n",
    "results = cursor.fetchall()\n",
    "\n",
    "# Print the results\n",
    "for row in results:\n",
    "    print(row)\n",
    "\n",
    "# Close the cursor and the connection\n",
    "cursor.close()\n",
    "connection.close()"
   ],
   "metadata": {
    "collapsed": false
   },
   "id": "e0ff3007dca8698b",
   "outputs": [],
   "execution_count": null
  },
  {
   "cell_type": "code",
   "source": [],
   "metadata": {
    "collapsed": false
   },
   "id": "d9866084702d95da",
   "outputs": [],
   "execution_count": null
  },
  {
   "cell_type": "code",
   "source": [],
   "metadata": {
    "collapsed": false
   },
   "id": "5fd103e253dafeac",
   "outputs": [],
   "execution_count": null
  },
  {
   "cell_type": "code",
   "source": [],
   "metadata": {
    "collapsed": false
   },
   "id": "dfd3af4e2e59afe",
   "outputs": [],
   "execution_count": null
  },
  {
   "cell_type": "code",
   "source": [],
   "metadata": {
    "collapsed": false
   },
   "id": "b5a1f42d137e5e25",
   "outputs": [],
   "execution_count": null
  },
  {
   "cell_type": "code",
   "source": [],
   "metadata": {
    "collapsed": false
   },
   "id": "f87a33227e1eccbb",
   "outputs": [],
   "execution_count": null
  },
  {
   "cell_type": "code",
   "source": [],
   "metadata": {
    "collapsed": false
   },
   "id": "7be7969e89b4683a",
   "outputs": [],
   "execution_count": null
  },
  {
   "cell_type": "code",
   "source": [],
   "metadata": {
    "collapsed": false
   },
   "id": "978c749cd90fe227",
   "outputs": [],
   "execution_count": null
  },
  {
   "cell_type": "code",
   "source": [],
   "metadata": {
    "collapsed": false
   },
   "id": "59160a7de51ae248",
   "outputs": [],
   "execution_count": null
  },
  {
   "cell_type": "code",
   "source": [],
   "metadata": {
    "collapsed": false
   },
   "id": "ad56efb149117836",
   "outputs": [],
   "execution_count": null
  },
  {
   "cell_type": "code",
   "source": [],
   "metadata": {
    "collapsed": false
   },
   "id": "2fe678ade9e3180c",
   "outputs": [],
   "execution_count": null
  },
  {
   "cell_type": "code",
   "source": [],
   "metadata": {
    "collapsed": false
   },
   "id": "79292bf8d708b314",
   "outputs": [],
   "execution_count": null
  },
  {
   "cell_type": "code",
   "source": [
    "data_listed = titlebasics_cleaned.to_numpy().tolist()"
   ],
   "metadata": {
    "collapsed": false
   },
   "id": "3fde69a7d585eaf5",
   "outputs": [],
   "execution_count": null
  },
  {
   "metadata": {},
   "cell_type": "code",
   "source": [
    "lemmatizer = WordNetLemmatizer()\n",
    "stop_words = set(stopwords.words('english'))\n",
    "\n",
    "c = 0\n",
    "bad_films = []\n",
    "\n",
    "# Assuming `connection` is your database connection object\n",
    "cursor = connection.cursor()\n",
    "\n",
    "for d in data_listed:\n",
    "    try:\n",
    "        # Insert into titles\n",
    "        insert_query_titles = \"\"\"\n",
    "        INSERT IGNORE INTO titles (tconst, title_type, title_name, description, year_start, year_end, is_adult)\n",
    "        VALUES (%s, %s, %s, %s, %s, %s, %s)\n",
    "        \"\"\"\n",
    "        cursor.execute(insert_query_titles, [d[0], d[1], d[2], d[10], d[5], d[6], d[4]])\n",
    "        connection.commit()\n",
    "        print(f\"Film {c} successfully inserted into table TITLES\")\n",
    "\n",
    "        # Process and insert description\n",
    "        try:\n",
    "            if d[10]:\n",
    "                i = d[10].lower()\n",
    "                i = re.sub(r'[^\\w\\s]', '', i)\n",
    "                i = re.sub(r'\\d', '', i)\n",
    "                tokens = word_tokenize(i)\n",
    "                lemmas = [lemmatizer.lemmatize(token) for token in tokens if token not in stop_words and len(token) > 2]\n",
    "                i = ' '.join(lemmas)\n",
    "                print(f'Film {c} lemmatized')\n",
    "            else:\n",
    "                i = None\n",
    "                print(f'Film {c} has no description, lemmatization skipped')\n",
    "\n",
    "            insert_query_descs = \"\"\"\n",
    "            INSERT INTO description_modified (tconst, description)\n",
    "            VALUES (%s, %s)\n",
    "            \"\"\"\n",
    "            cursor.execute(insert_query_descs, (d[0], i))\n",
    "            connection.commit()\n",
    "            print(f'Lemmatized description of film {c} has been inserted into DESCRIPTION_MODIFIED')\n",
    "\n",
    "        except AttributeError:\n",
    "            print(f'Film {c} has no description, lemmatization skipped')\n",
    "            insert_query_descs = \"\"\"\n",
    "            INSERT IGNORE INTO description_modified (tconst, description)\n",
    "            VALUES (%s, %s)\n",
    "            \"\"\"\n",
    "            cursor.execute(insert_query_descs, (d[0], None))\n",
    "            connection.commit()\n",
    "            print(f'NoneType description of film {c} has been inserted into DESCRIPTION_MODIFIED')\n",
    "\n",
    "    except Exception as e:\n",
    "        print(f'ERROR: {e}\\nFilm {c} skipped')\n",
    "        bad_films.append(d)\n",
    "\n",
    "    print('--------')\n",
    "    c += 1\n",
    "\n",
    "# Closing the cursor and connection\n",
    "cursor.close()\n",
    "connection.close()"
   ],
   "id": "fbe38e6beb251966",
   "outputs": [],
   "execution_count": null
  },
  {
   "cell_type": "code",
   "source": [
    "lemmatizer = WordNetLemmatizer()\n",
    "stop_words = set(stopwords.words('english'))\n",
    "c = 0\n",
    "bad_films = []\n",
    "for d in data_listed:\n",
    "    i = d[10]\n",
    "    insert_query_titles = \"\"\"\n",
    "    INSERT IGNORE INTO titles (tconst, title_type, title_name, description, year_start, year_end, is_adult)\n",
    "    VALUES (%s, %s, %s, %s, %s, %s, %s)\n",
    "    \"\"\"\n",
    "    cursor = connection.cursor()\n",
    "    try:\n",
    "        cursor.execute(insert_query_titles, [d[0], d[1], d[2], d[10], d[5], d[6], d[4]])\n",
    "        connection.commit()\n",
    "        print(f\"film {c} successfilly inserted into table TITLES\")\n",
    "        try:\n",
    "            i = i.lower()\n",
    "            i = re.sub(r'[^\\w\\s]', '', i)\n",
    "            i = re.sub(r'\\d', '', i)\n",
    "            tokens = word_tokenize(i)\n",
    "            lemmas = [lemmatizer.lemmatize(token) for token in tokens if token not in stop_words and len(token) > 2]\n",
    "            i = [' '.join(lemmas)]\n",
    "            print(f'film {c} lemmatized')\n",
    "            insert_query_descs = \"\"\"\n",
    "    INSERT INTO description_modified (tconst, description)\n",
    "    VALUES (%s, %s)\n",
    "    \"\"\"\n",
    "            cursor.execute(insert_query_descs, (d[0], i))\n",
    "            connection.commit()\n",
    "            print(f'lemmatized description of film {c} has inserted to DESCRIPTION_MODDED')\n",
    "        except AttributeError:\n",
    "            i = None\n",
    "            print(f'film {c} has no description, lemmatization skipped')\n",
    "            insert_query_descs = \"\"\"\n",
    "    INSERT IGNORE INTO description_modified (tconst, description)\n",
    "    VALUES (%s, %s)\n",
    "    \"\"\"\n",
    "            cursor.execute(insert_query_descs, (d[0], i))\n",
    "            connection.commit()\n",
    "            print(f'NONETYPE of film {c} has inserted to DESCRIPTION_MODDED')\n",
    "    except Exception as e:\n",
    "        print(f'ERROR: {e}\\nFilm {c} skipped')\n",
    "        bad_films.append(d)\n",
    "    print('--------')\n",
    "    c += 1"
   ],
   "metadata": {
    "collapsed": false
   },
   "id": "fd2b2d9eae849258",
   "outputs": [],
   "execution_count": null
  },
  {
   "cell_type": "code",
   "source": [
    "# movies = titlebasics[['tconst', 'titleType', 'primaryTitle', 'description','startYear', 'endYear']].to_numpy().tolist()"
   ],
   "metadata": {
    "collapsed": false
   },
   "id": "4ac97330af049ad1",
   "outputs": [],
   "execution_count": null
  },
  {
   "cell_type": "code",
   "source": [
    "titlebasics['genres'].unique()"
   ],
   "metadata": {
    "collapsed": false
   },
   "id": "24a6f38f7d9e90f2",
   "outputs": [],
   "execution_count": null
  },
  {
   "cell_type": "code",
   "source": [
    "# done\n",
    "all_genres = []\n",
    "for g in titlebasics['genres'].unique()[1:]:\n",
    "    all_genres.extend(g.split(','))\n",
    "\n",
    "all_genres = list(set(all_genres))\n",
    "# all_genres.remove('\\\\N')\n",
    "all_genres = [(index + 1, genre) for index, genre in enumerate(all_genres)]\n",
    "all_genres"
   ],
   "metadata": {
    "collapsed": false
   },
   "id": "dd1064c466a74336",
   "outputs": [],
   "execution_count": null
  },
  {
   "cell_type": "code",
   "source": [
    "# done\n",
    "all_genres_dict = dict(all_genres)"
   ],
   "metadata": {
    "collapsed": false
   },
   "id": "11a96fbe50fb0007",
   "outputs": [],
   "execution_count": null
  },
  {
   "cell_type": "code",
   "source": [],
   "metadata": {
    "collapsed": false
   },
   "id": "6ef9211248f1cad6",
   "outputs": [],
   "execution_count": null
  },
  {
   "cell_type": "code",
   "source": [
    "batch_size = 500\n",
    "insert_query = \"\"\"\n",
    "    INSERT IGNORE INTO titles (tconst, title_type, title_name, description, year_start, year_end)\n",
    "    VALUES (%s, %s, %s, %s, %s, %s)\n",
    "    \"\"\"\n",
    "cursor = connection.cursor()\n",
    "c = 0\n",
    "broken_movies = []\n",
    "for movie in range(0, len(movies)):\n",
    "    try:\n",
    "        for i in range(0, len(movies), batch_size):\n",
    "            batch = movies[i:i + batch_size]\n",
    "            cursor.executemany(insert_query, batch)\n",
    "            connection.commit()\n",
    "            c += cursor.rowcount\n",
    "            print(f\"{cursor.rowcount} movies inserted successfully\\n'total rows insserted: {c}'\")\n",
    "    except Error as e:\n",
    "        print(f\"The error '{e}' occurred\")\n",
    "        broken_movies.extend(movies[i:i + batch_size])"
   ],
   "metadata": {
    "collapsed": false
   },
   "id": "163a3dcdaadd90e6",
   "outputs": [],
   "execution_count": null
  },
  {
   "cell_type": "code",
   "source": [
    "broken_movies_copy = broken_movies"
   ],
   "metadata": {
    "collapsed": false
   },
   "id": "e149d53da153c964",
   "outputs": [],
   "execution_count": null
  },
  {
   "cell_type": "code",
   "source": [
    "broken_movies_copy"
   ],
   "metadata": {
    "collapsed": false
   },
   "id": "aff1e414206eb5f5",
   "outputs": [],
   "execution_count": null
  },
  {
   "cell_type": "code",
   "source": [
    "titlebasics"
   ],
   "metadata": {
    "collapsed": false
   },
   "id": "518fe6566770ab0f",
   "outputs": [],
   "execution_count": null
  },
  {
   "cell_type": "code",
   "source": [],
   "metadata": {
    "collapsed": false
   },
   "id": "d396c4dd8d737d30",
   "outputs": [],
   "execution_count": null
  },
  {
   "cell_type": "code",
   "source": [
    "desc_modded = titlebasics[['tconst', 'desc_modded']].to_numpy().tolist()"
   ],
   "metadata": {
    "collapsed": false
   },
   "id": "7320e3be8d8246fe",
   "outputs": [],
   "execution_count": null
  },
  {
   "cell_type": "code",
   "source": [
    "desc_modded"
   ],
   "metadata": {
    "collapsed": false
   },
   "id": "88f583e94422dfd9",
   "outputs": [],
   "execution_count": null
  },
  {
   "cell_type": "code",
   "source": [
    "insert_query = \"\"\"\n",
    "    INSERT INTO description_modified (tconst, description)\n",
    "    VALUES (%s, %s)\n",
    "    \"\"\"\n",
    "batch_size = 500\n",
    "cursor = connection.cursor()\n",
    "for i in range(0, len(desc_modded), batch_size):\n",
    "    batch = desc_modded[i:i + batch_size]\n",
    "    try:\n",
    "        cursor.executemany(insert_query, batch)\n",
    "        connection.commit()\n",
    "        print(f\"{len(batch)} records inserted successfully\")\n",
    "    except Error as e:\n",
    "        print(f\"The error '{e}' occurred during batch insertion\")\n",
    "        connection.rollback()"
   ],
   "metadata": {
    "collapsed": false
   },
   "id": "eca28384601bf43d",
   "outputs": [],
   "execution_count": null
  },
  {
   "cell_type": "code",
   "source": [
    "count_query = \"SELECT COUNT(*) FROM titles_image\"\n",
    "cursor = connection.cursor()\n",
    "try:\n",
    "    cursor.execute(count_query)\n",
    "    row_count = cursor.fetchone()[0]\n",
    "    print(f\"Number of rows in 'titles' table: {row_count}\")\n",
    "except Error as e:\n",
    "    print(f\"The error '{e}' occurred\")"
   ],
   "metadata": {
    "collapsed": false
   },
   "id": "f463a6b471a58260",
   "outputs": [],
   "execution_count": null
  },
  {
   "cell_type": "code",
   "source": [],
   "metadata": {
    "collapsed": false
   },
   "id": "95348eba0112dc12",
   "outputs": [],
   "execution_count": null
  },
  {
   "cell_type": "code",
   "source": [],
   "metadata": {
    "collapsed": false
   },
   "id": "f4bec948cdd3bcd2",
   "outputs": [],
   "execution_count": null
  },
  {
   "cell_type": "code",
   "source": [],
   "metadata": {
    "collapsed": false
   },
   "id": "ae654d26d716f56e",
   "outputs": [],
   "execution_count": null
  },
  {
   "cell_type": "code",
   "source": [],
   "metadata": {
    "collapsed": false
   },
   "id": "4b0c69ceabbdff76",
   "outputs": [],
   "execution_count": null
  },
  {
   "cell_type": "code",
   "source": [],
   "metadata": {
    "collapsed": false
   },
   "id": "d8f33fce9a698433",
   "outputs": [],
   "execution_count": null
  },
  {
   "cell_type": "code",
   "source": [],
   "metadata": {
    "collapsed": false
   },
   "id": "27dbfa070da9b9a2",
   "outputs": [],
   "execution_count": null
  },
  {
   "cell_type": "code",
   "source": [
    "# done\n",
    "insert_query = \"\"\"\n",
    "    INSERT INTO genres (genre_id, genre_name)\n",
    "    VALUES (%s, %s)\n",
    "    \"\"\"\n",
    "try:\n",
    "    cursor = connection.cursor()\n",
    "    cursor.executemany(insert_query, genres)\n",
    "    connection.commit()\n",
    "    print(f\"{cursor.rowcount} records inserted successfully into genres table\")\n",
    "except Error as e:\n",
    "    print(f\"The error '{e}' occurred\")"
   ],
   "metadata": {
    "collapsed": false
   },
   "id": "d0bd75881cccc61c",
   "outputs": [],
   "execution_count": null
  },
  {
   "cell_type": "code",
   "source": [],
   "metadata": {
    "collapsed": false
   },
   "id": "a3ca0f4c935679cf",
   "outputs": [],
   "execution_count": null
  },
  {
   "cell_type": "code",
   "source": [],
   "metadata": {
    "collapsed": false
   },
   "id": "dd17346d94a09ff5",
   "outputs": [],
   "execution_count": null
  },
  {
   "metadata": {},
   "cell_type": "code",
   "source": [
    "titlebasics = pd.read_csv(r'C:\\Users\\mayko\\YandexDisk-makorablina@edu.hse.ru\\CodingProjects\\recsys_project\\data\\title.basics.tsv', sep = '\\t')\n",
    "titlebasics = pd.merge(titlebasics, desc_df, on='tconst', how='inner')"
   ],
   "id": "569d8209d2a7102d",
   "outputs": [],
   "execution_count": null
  },
  {
   "metadata": {},
   "cell_type": "code",
   "source": [
    "titlebasics "
   ],
   "id": "3e50744ca81f2438",
   "outputs": [],
   "execution_count": null
  },
  {
   "metadata": {},
   "cell_type": "code",
   "source": [],
   "id": "ff364b5f2a496f81",
   "outputs": [],
   "execution_count": null
  },
  {
   "metadata": {},
   "cell_type": "code",
   "source": [
    "all_genres = []\n",
    "for g in titlebasics['genres'].unique():\n",
    "    all_genres.extend(g.split(','))\n",
    "\n",
    "all_genres = list(set(all_genres))\n",
    "all_genres.remove('\\\\N')\n",
    "all_genres = [(index + 1, genre) for index, genre in enumerate(all_genres)]\n",
    "all_genres"
   ],
   "id": "7a5edb8cd0f7ef67",
   "outputs": [],
   "execution_count": null
  },
  {
   "cell_type": "code",
   "source": [
    "insert_query = \"\"\"\n",
    "    INSERT INTO names (nconst, name, birth_year, death_year)\n",
    "    VALUES (%s, %s, %s, %s)\n",
    "    \"\"\"\n",
    "try:\n",
    "    cursor = connection.cursor()\n",
    "    cursor.executemany(insert_query, names)\n",
    "    connection.commit()\n",
    "    print(f\"{cursor.rowcount} records inserted successfully into names table\")\n",
    "except Error as e:\n",
    "    print(f\"The error '{e}' occurred\")"
   ],
   "metadata": {
    "collapsed": false
   },
   "id": "5deb120eac0cadba",
   "outputs": [],
   "execution_count": null
  },
  {
   "cell_type": "code",
   "source": [
    "insert_query = \"\"\"\n",
    "    INSERT INTO names_titles (nconst, tconst)\n",
    "    VALUES (%s, %s)\n",
    "    \"\"\"\n",
    "try:\n",
    "    cursor = connection.cursor()\n",
    "    cursor.executemany(insert_query, names_titles)\n",
    "    connection.commit()\n",
    "    print(f\"{cursor.rowcount} records inserted successfully into names_titles table\")\n",
    "except Error as e:\n",
    "    print(f\"The error '{e}' occurred\")"
   ],
   "metadata": {
    "collapsed": false
   },
   "id": "2e91d50073677b4c",
   "outputs": [],
   "execution_count": null
  },
  {
   "cell_type": "code",
   "source": [
    "insert_query = \"\"\"\n",
    "    INSERT INTO ratings (tconst, rating, num_votes)\n",
    "    VALUES (%s, %s, %s)\n",
    "    \"\"\"\n",
    "try:\n",
    "    cursor = connection.cursor()\n",
    "    cursor.executemany(insert_query, ratings)\n",
    "    connection.commit()\n",
    "    print(f\"{cursor.rowcount} records inserted successfully into ratings table\")\n",
    "except Error as e:\n",
    "    print(f\"The error '{e}' occurred\")"
   ],
   "metadata": {
    "collapsed": false
   },
   "id": "58354630172b6284",
   "outputs": [],
   "execution_count": null
  },
  {
   "cell_type": "code",
   "source": [
    "insert_query = \"\"\"\n",
    "    INSERT INTO titles_image (tconst, image_url)\n",
    "    VALUES (%s, %s)\n",
    "    \"\"\"\n",
    "try:\n",
    "    cursor = connection.cursor()\n",
    "    cursor.executemany(insert_query, titles_images)\n",
    "    connection.commit()\n",
    "    print(f\"{cursor.rowcount} records inserted successfully into titles_image table\")\n",
    "except Error as e:\n",
    "    print(f\"The error '{e}' occurred\")"
   ],
   "metadata": {
    "collapsed": false
   },
   "id": "5bbcec2bccaa79c1",
   "outputs": [],
   "execution_count": null
  }
 ],
 "metadata": {
  "kernelspec": {
   "display_name": "Python 3",
   "language": "python",
   "name": "python3"
  },
  "language_info": {
   "codemirror_mode": {
    "name": "ipython",
    "version": 2
   },
   "file_extension": ".py",
   "mimetype": "text/x-python",
   "name": "python",
   "nbconvert_exporter": "python",
   "pygments_lexer": "ipython2",
   "version": "2.7.6"
  }
 },
 "nbformat": 4,
 "nbformat_minor": 5
}
