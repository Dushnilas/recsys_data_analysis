{
 "cells": [
  {
   "cell_type": "code",
   "id": "initial_id",
   "metadata": {
    "collapsed": true,
    "ExecuteTime": {
     "end_time": "2024-05-06T08:16:33.382068Z",
     "start_time": "2024-05-06T08:16:28.165757Z"
    }
   },
   "source": [
    "import pandas as pd"
   ],
   "outputs": [],
   "execution_count": 7
  },
  {
   "metadata": {
    "ExecuteTime": {
     "end_time": "2024-05-15T12:04:47.836798Z",
     "start_time": "2024-05-15T12:04:47.794597Z"
    }
   },
   "cell_type": "code",
   "source": [
    "titlerakas = pd.read_csv(r\"data/title.akas.tsv\", sep = '\\t')"
   ],
   "id": "e7714463784d0e09",
   "outputs": [
    {
     "ename": "NameError",
     "evalue": "name 'pd' is not defined",
     "output_type": "error",
     "traceback": [
      "\u001B[1;31m---------------------------------------------------------------------------\u001B[0m",
      "\u001B[1;31mNameError\u001B[0m                                 Traceback (most recent call last)",
      "Cell \u001B[1;32mIn[2], line 1\u001B[0m\n\u001B[1;32m----> 1\u001B[0m titlerakas \u001B[38;5;241m=\u001B[39m \u001B[43mpd\u001B[49m\u001B[38;5;241m.\u001B[39mread_csv(\u001B[38;5;124mr\u001B[39m\u001B[38;5;124m\"\u001B[39m\u001B[38;5;124mdata/title.akas.tsv\u001B[39m\u001B[38;5;124m\"\u001B[39m, sep \u001B[38;5;241m=\u001B[39m \u001B[38;5;124m'\u001B[39m\u001B[38;5;130;01m\\t\u001B[39;00m\u001B[38;5;124m'\u001B[39m)\n",
      "\u001B[1;31mNameError\u001B[0m: name 'pd' is not defined"
     ]
    }
   ],
   "execution_count": 2
  },
  {
   "metadata": {
    "ExecuteTime": {
     "end_time": "2024-05-15T12:04:39.978502Z",
     "start_time": "2024-05-15T12:04:39.739931Z"
    }
   },
   "cell_type": "code",
   "source": [
    "titlerakas"
   ],
   "id": "4dd53a1b84160b9e",
   "outputs": [
    {
     "ename": "NameError",
     "evalue": "name 'titlerakas' is not defined",
     "output_type": "error",
     "traceback": [
      "\u001B[1;31m---------------------------------------------------------------------------\u001B[0m",
      "\u001B[1;31mNameError\u001B[0m                                 Traceback (most recent call last)",
      "Cell \u001B[1;32mIn[1], line 1\u001B[0m\n\u001B[1;32m----> 1\u001B[0m \u001B[43mtitlerakas\u001B[49m\n",
      "\u001B[1;31mNameError\u001B[0m: name 'titlerakas' is not defined"
     ]
    }
   ],
   "execution_count": 1
  },
  {
   "metadata": {
    "ExecuteTime": {
     "end_time": "2024-05-06T08:18:01.649102Z",
     "start_time": "2024-05-06T08:17:41.998070Z"
    }
   },
   "cell_type": "code",
   "source": [
    "titlebasicxs = pd.read_csv(r\"data/title.basics.tsv\", sep = '\\t')\n",
    "titlebasicxs"
   ],
   "id": "6423540b0e56d2b3",
   "outputs": [
    {
     "name": "stderr",
     "output_type": "stream",
     "text": [
      "/var/folders/g5/7c1snd9s2_x7xpt66lszrj2h0000gn/T/ipykernel_4578/724491367.py:1: DtypeWarning: Columns (4) have mixed types. Specify dtype option on import or set low_memory=False.\n",
      "  titlebasicxs = pd.read_csv(r\"data/title.basics.tsv\", sep = '\\t')\n"
     ]
    },
    {
     "data": {
      "text/plain": "             tconst  titleType               primaryTitle  \\\n0         tt0000001      short                 Carmencita   \n1         tt0000002      short     Le clown et ses chiens   \n2         tt0000003      short             Pauvre Pierrot   \n3         tt0000004      short                Un bon bock   \n4         tt0000005      short           Blacksmith Scene   \n...             ...        ...                        ...   \n10716423  tt9916848  tvEpisode              Episode #3.17   \n10716424  tt9916850  tvEpisode              Episode #3.19   \n10716425  tt9916852  tvEpisode              Episode #3.20   \n10716426  tt9916856      short                   The Wind   \n10716427  tt9916880  tvEpisode  Horrid Henry Knows It All   \n\n                      originalTitle isAdult startYear endYear runtimeMinutes  \\\n0                        Carmencita       0      1894      \\N              1   \n1            Le clown et ses chiens       0      1892      \\N              5   \n2                    Pauvre Pierrot       0      1892      \\N              5   \n3                       Un bon bock       0      1892      \\N             12   \n4                  Blacksmith Scene       0      1893      \\N              1   \n...                             ...     ...       ...     ...            ...   \n10716423              Episode #3.17       0      2009      \\N             \\N   \n10716424              Episode #3.19       0      2010      \\N             \\N   \n10716425              Episode #3.20       0      2010      \\N             \\N   \n10716426                   The Wind       0      2015      \\N             27   \n10716427  Horrid Henry Knows It All       0      2014      \\N             10   \n\n                              genres  \n0                  Documentary,Short  \n1                    Animation,Short  \n2           Animation,Comedy,Romance  \n3                    Animation,Short  \n4                       Comedy,Short  \n...                              ...  \n10716423         Action,Drama,Family  \n10716424         Action,Drama,Family  \n10716425         Action,Drama,Family  \n10716426                       Short  \n10716427  Adventure,Animation,Comedy  \n\n[10716428 rows x 9 columns]",
      "text/html": "<div>\n<style scoped>\n    .dataframe tbody tr th:only-of-type {\n        vertical-align: middle;\n    }\n\n    .dataframe tbody tr th {\n        vertical-align: top;\n    }\n\n    .dataframe thead th {\n        text-align: right;\n    }\n</style>\n<table border=\"1\" class=\"dataframe\">\n  <thead>\n    <tr style=\"text-align: right;\">\n      <th></th>\n      <th>tconst</th>\n      <th>titleType</th>\n      <th>primaryTitle</th>\n      <th>originalTitle</th>\n      <th>isAdult</th>\n      <th>startYear</th>\n      <th>endYear</th>\n      <th>runtimeMinutes</th>\n      <th>genres</th>\n    </tr>\n  </thead>\n  <tbody>\n    <tr>\n      <th>0</th>\n      <td>tt0000001</td>\n      <td>short</td>\n      <td>Carmencita</td>\n      <td>Carmencita</td>\n      <td>0</td>\n      <td>1894</td>\n      <td>\\N</td>\n      <td>1</td>\n      <td>Documentary,Short</td>\n    </tr>\n    <tr>\n      <th>1</th>\n      <td>tt0000002</td>\n      <td>short</td>\n      <td>Le clown et ses chiens</td>\n      <td>Le clown et ses chiens</td>\n      <td>0</td>\n      <td>1892</td>\n      <td>\\N</td>\n      <td>5</td>\n      <td>Animation,Short</td>\n    </tr>\n    <tr>\n      <th>2</th>\n      <td>tt0000003</td>\n      <td>short</td>\n      <td>Pauvre Pierrot</td>\n      <td>Pauvre Pierrot</td>\n      <td>0</td>\n      <td>1892</td>\n      <td>\\N</td>\n      <td>5</td>\n      <td>Animation,Comedy,Romance</td>\n    </tr>\n    <tr>\n      <th>3</th>\n      <td>tt0000004</td>\n      <td>short</td>\n      <td>Un bon bock</td>\n      <td>Un bon bock</td>\n      <td>0</td>\n      <td>1892</td>\n      <td>\\N</td>\n      <td>12</td>\n      <td>Animation,Short</td>\n    </tr>\n    <tr>\n      <th>4</th>\n      <td>tt0000005</td>\n      <td>short</td>\n      <td>Blacksmith Scene</td>\n      <td>Blacksmith Scene</td>\n      <td>0</td>\n      <td>1893</td>\n      <td>\\N</td>\n      <td>1</td>\n      <td>Comedy,Short</td>\n    </tr>\n    <tr>\n      <th>...</th>\n      <td>...</td>\n      <td>...</td>\n      <td>...</td>\n      <td>...</td>\n      <td>...</td>\n      <td>...</td>\n      <td>...</td>\n      <td>...</td>\n      <td>...</td>\n    </tr>\n    <tr>\n      <th>10716423</th>\n      <td>tt9916848</td>\n      <td>tvEpisode</td>\n      <td>Episode #3.17</td>\n      <td>Episode #3.17</td>\n      <td>0</td>\n      <td>2009</td>\n      <td>\\N</td>\n      <td>\\N</td>\n      <td>Action,Drama,Family</td>\n    </tr>\n    <tr>\n      <th>10716424</th>\n      <td>tt9916850</td>\n      <td>tvEpisode</td>\n      <td>Episode #3.19</td>\n      <td>Episode #3.19</td>\n      <td>0</td>\n      <td>2010</td>\n      <td>\\N</td>\n      <td>\\N</td>\n      <td>Action,Drama,Family</td>\n    </tr>\n    <tr>\n      <th>10716425</th>\n      <td>tt9916852</td>\n      <td>tvEpisode</td>\n      <td>Episode #3.20</td>\n      <td>Episode #3.20</td>\n      <td>0</td>\n      <td>2010</td>\n      <td>\\N</td>\n      <td>\\N</td>\n      <td>Action,Drama,Family</td>\n    </tr>\n    <tr>\n      <th>10716426</th>\n      <td>tt9916856</td>\n      <td>short</td>\n      <td>The Wind</td>\n      <td>The Wind</td>\n      <td>0</td>\n      <td>2015</td>\n      <td>\\N</td>\n      <td>27</td>\n      <td>Short</td>\n    </tr>\n    <tr>\n      <th>10716427</th>\n      <td>tt9916880</td>\n      <td>tvEpisode</td>\n      <td>Horrid Henry Knows It All</td>\n      <td>Horrid Henry Knows It All</td>\n      <td>0</td>\n      <td>2014</td>\n      <td>\\N</td>\n      <td>10</td>\n      <td>Adventure,Animation,Comedy</td>\n    </tr>\n  </tbody>\n</table>\n<p>10716428 rows × 9 columns</p>\n</div>"
     },
     "execution_count": 9,
     "metadata": {},
     "output_type": "execute_result"
    }
   ],
   "execution_count": 9
  },
  {
   "cell_type": "code",
   "outputs": [
    {
     "data": {
      "text/plain": "array(['short', 'movie', 'tvShort', 'tvMovie', 'tvSeries', 'tvEpisode',\n       'tvMiniSeries', 'tvSpecial', 'video', 'videoGame', 'tvPilot'],\n      dtype=object)"
     },
     "execution_count": 12,
     "metadata": {},
     "output_type": "execute_result"
    }
   ],
   "source": [
    "titlebasicxs['titleType'].unique()"
   ],
   "metadata": {
    "collapsed": false,
    "ExecuteTime": {
     "end_time": "2024-05-06T08:25:21.142728Z",
     "start_time": "2024-05-06T08:25:20.993033Z"
    }
   },
   "id": "63a6a89a2c19dc10",
   "execution_count": 12
  },
  {
   "cell_type": "code",
   "outputs": [],
   "source": [
    "titlebasicxs[titlebasicxs['titleType'].isin([\"\"])]"
   ],
   "metadata": {
    "collapsed": false
   },
   "id": "a0bf6d338811a8d",
   "execution_count": null
  },
  {
   "cell_type": "code",
   "outputs": [
    {
     "data": {
      "text/plain": "             tconst  ordering     nconst         category  \\\n0         tt0000001         1  nm1588970             self   \n1         tt0000001         2  nm0005690         director   \n2         tt0000001         3  nm0005690         producer   \n3         tt0000001         4  nm0374658  cinematographer   \n4         tt0000002         1  nm0721526         director   \n...             ...       ...        ...              ...   \n85314754  tt9916880        18  nm0996406         director   \n85314755  tt9916880        19  nm1482639           writer   \n85314756  tt9916880        20  nm2586970           writer   \n85314757  tt9916880        21  nm1594058         producer   \n85314758  tt9916880        22  nm1482639         producer   \n\n                              job characters  \n0                              \\N   [\"Self\"]  \n1                              \\N         \\N  \n2                        producer         \\N  \n3         director of photography         \\N  \n4                              \\N         \\N  \n...                           ...        ...  \n85314754       principal director         \\N  \n85314755                       \\N         \\N  \n85314756                    books         \\N  \n85314757                 producer         \\N  \n85314758                 producer         \\N  \n\n[85314759 rows x 6 columns]",
      "text/html": "<div>\n<style scoped>\n    .dataframe tbody tr th:only-of-type {\n        vertical-align: middle;\n    }\n\n    .dataframe tbody tr th {\n        vertical-align: top;\n    }\n\n    .dataframe thead th {\n        text-align: right;\n    }\n</style>\n<table border=\"1\" class=\"dataframe\">\n  <thead>\n    <tr style=\"text-align: right;\">\n      <th></th>\n      <th>tconst</th>\n      <th>ordering</th>\n      <th>nconst</th>\n      <th>category</th>\n      <th>job</th>\n      <th>characters</th>\n    </tr>\n  </thead>\n  <tbody>\n    <tr>\n      <th>0</th>\n      <td>tt0000001</td>\n      <td>1</td>\n      <td>nm1588970</td>\n      <td>self</td>\n      <td>\\N</td>\n      <td>[\"Self\"]</td>\n    </tr>\n    <tr>\n      <th>1</th>\n      <td>tt0000001</td>\n      <td>2</td>\n      <td>nm0005690</td>\n      <td>director</td>\n      <td>\\N</td>\n      <td>\\N</td>\n    </tr>\n    <tr>\n      <th>2</th>\n      <td>tt0000001</td>\n      <td>3</td>\n      <td>nm0005690</td>\n      <td>producer</td>\n      <td>producer</td>\n      <td>\\N</td>\n    </tr>\n    <tr>\n      <th>3</th>\n      <td>tt0000001</td>\n      <td>4</td>\n      <td>nm0374658</td>\n      <td>cinematographer</td>\n      <td>director of photography</td>\n      <td>\\N</td>\n    </tr>\n    <tr>\n      <th>4</th>\n      <td>tt0000002</td>\n      <td>1</td>\n      <td>nm0721526</td>\n      <td>director</td>\n      <td>\\N</td>\n      <td>\\N</td>\n    </tr>\n    <tr>\n      <th>...</th>\n      <td>...</td>\n      <td>...</td>\n      <td>...</td>\n      <td>...</td>\n      <td>...</td>\n      <td>...</td>\n    </tr>\n    <tr>\n      <th>85314754</th>\n      <td>tt9916880</td>\n      <td>18</td>\n      <td>nm0996406</td>\n      <td>director</td>\n      <td>principal director</td>\n      <td>\\N</td>\n    </tr>\n    <tr>\n      <th>85314755</th>\n      <td>tt9916880</td>\n      <td>19</td>\n      <td>nm1482639</td>\n      <td>writer</td>\n      <td>\\N</td>\n      <td>\\N</td>\n    </tr>\n    <tr>\n      <th>85314756</th>\n      <td>tt9916880</td>\n      <td>20</td>\n      <td>nm2586970</td>\n      <td>writer</td>\n      <td>books</td>\n      <td>\\N</td>\n    </tr>\n    <tr>\n      <th>85314757</th>\n      <td>tt9916880</td>\n      <td>21</td>\n      <td>nm1594058</td>\n      <td>producer</td>\n      <td>producer</td>\n      <td>\\N</td>\n    </tr>\n    <tr>\n      <th>85314758</th>\n      <td>tt9916880</td>\n      <td>22</td>\n      <td>nm1482639</td>\n      <td>producer</td>\n      <td>producer</td>\n      <td>\\N</td>\n    </tr>\n  </tbody>\n</table>\n<p>85314759 rows × 6 columns</p>\n</div>"
     },
     "execution_count": 10,
     "metadata": {},
     "output_type": "execute_result"
    }
   ],
   "source": [
    "titleprincipals = pd.read_csv(r\"data/title.principals.tsv\", sep = '\\t')\n",
    "titleprincipals"
   ],
   "metadata": {
    "collapsed": false,
    "ExecuteTime": {
     "end_time": "2024-05-06T08:20:46.206727Z",
     "start_time": "2024-05-06T08:18:01.588020Z"
    }
   },
   "id": "2eae883e4c701002",
   "execution_count": 10
  },
  {
   "cell_type": "code",
   "outputs": [
    {
     "data": {
      "text/plain": "            tconst  averageRating  numVotes\n0        tt0000001            5.7      2045\n1        tt0000002            5.7       273\n2        tt0000003            6.5      2003\n3        tt0000004            5.4       178\n4        tt0000005            6.2      2763\n...            ...            ...       ...\n1428850  tt9916730            7.0        12\n1428851  tt9916766            7.1        23\n1428852  tt9916778            7.2        36\n1428853  tt9916840            7.0         9\n1428854  tt9916880            8.5         7\n\n[1428855 rows x 3 columns]",
      "text/html": "<div>\n<style scoped>\n    .dataframe tbody tr th:only-of-type {\n        vertical-align: middle;\n    }\n\n    .dataframe tbody tr th {\n        vertical-align: top;\n    }\n\n    .dataframe thead th {\n        text-align: right;\n    }\n</style>\n<table border=\"1\" class=\"dataframe\">\n  <thead>\n    <tr style=\"text-align: right;\">\n      <th></th>\n      <th>tconst</th>\n      <th>averageRating</th>\n      <th>numVotes</th>\n    </tr>\n  </thead>\n  <tbody>\n    <tr>\n      <th>0</th>\n      <td>tt0000001</td>\n      <td>5.7</td>\n      <td>2045</td>\n    </tr>\n    <tr>\n      <th>1</th>\n      <td>tt0000002</td>\n      <td>5.7</td>\n      <td>273</td>\n    </tr>\n    <tr>\n      <th>2</th>\n      <td>tt0000003</td>\n      <td>6.5</td>\n      <td>2003</td>\n    </tr>\n    <tr>\n      <th>3</th>\n      <td>tt0000004</td>\n      <td>5.4</td>\n      <td>178</td>\n    </tr>\n    <tr>\n      <th>4</th>\n      <td>tt0000005</td>\n      <td>6.2</td>\n      <td>2763</td>\n    </tr>\n    <tr>\n      <th>...</th>\n      <td>...</td>\n      <td>...</td>\n      <td>...</td>\n    </tr>\n    <tr>\n      <th>1428850</th>\n      <td>tt9916730</td>\n      <td>7.0</td>\n      <td>12</td>\n    </tr>\n    <tr>\n      <th>1428851</th>\n      <td>tt9916766</td>\n      <td>7.1</td>\n      <td>23</td>\n    </tr>\n    <tr>\n      <th>1428852</th>\n      <td>tt9916778</td>\n      <td>7.2</td>\n      <td>36</td>\n    </tr>\n    <tr>\n      <th>1428853</th>\n      <td>tt9916840</td>\n      <td>7.0</td>\n      <td>9</td>\n    </tr>\n    <tr>\n      <th>1428854</th>\n      <td>tt9916880</td>\n      <td>8.5</td>\n      <td>7</td>\n    </tr>\n  </tbody>\n</table>\n<p>1428855 rows × 3 columns</p>\n</div>"
     },
     "execution_count": 11,
     "metadata": {},
     "output_type": "execute_result"
    }
   ],
   "source": [
    "titleratings = pd.read_csv(r\"data/title.ratings.tsv\", sep = '\\t')\n",
    "titleratings"
   ],
   "metadata": {
    "collapsed": false,
    "ExecuteTime": {
     "end_time": "2024-05-06T08:20:47.197447Z",
     "start_time": "2024-05-06T08:20:46.210066Z"
    }
   },
   "id": "b2f7c8bae948aa1f",
   "execution_count": 11
  },
  {
   "cell_type": "code",
   "outputs": [
    {
     "data": {
      "text/plain": "             nconst         primaryName birthYear deathYear  \\\n0         nm0000001        Fred Astaire      1899      1987   \n1         nm0000002       Lauren Bacall      1924      2014   \n2         nm0000003     Brigitte Bardot      1934        \\N   \n3         nm0000004        John Belushi      1949      1982   \n4         nm0000005      Ingmar Bergman      1918      2007   \n...             ...                 ...       ...       ...   \n13492071  nm9993714   Romeo del Rosario        \\N        \\N   \n13492072  nm9993716       Essias Loberg        \\N        \\N   \n13492073  nm9993717  Harikrishnan Rajan        \\N        \\N   \n13492074  nm9993718         Aayush Nair        \\N        \\N   \n13492075  nm9993719          Andre Hill        \\N        \\N   \n\n                            primaryProfession  \\\n0                actor,miscellaneous,producer   \n1          actress,soundtrack,archive_footage   \n2           actress,music_department,producer   \n3               actor,writer,music_department   \n4                       writer,director,actor   \n...                                       ...   \n13492071  animation_department,art_department   \n13492072                                   \\N   \n13492073                      cinematographer   \n13492074                      cinematographer   \n13492075                               writer   \n\n                                   knownForTitles  \n0         tt0072308,tt0050419,tt0053137,tt0027125  \n1         tt0037382,tt0075213,tt0117057,tt0038355  \n2         tt0057345,tt0049189,tt0056404,tt0054452  \n3         tt0072562,tt0077975,tt0080455,tt0078723  \n4         tt0050986,tt0083922,tt0050976,tt0069467  \n...                                           ...  \n13492071          tt11657662,tt14069590,tt2455546  \n13492072                                       \\N  \n13492073                                tt8736744  \n13492074                                tt8736744  \n13492075                                       \\N  \n\n[13492076 rows x 6 columns]",
      "text/html": "<div>\n<style scoped>\n    .dataframe tbody tr th:only-of-type {\n        vertical-align: middle;\n    }\n\n    .dataframe tbody tr th {\n        vertical-align: top;\n    }\n\n    .dataframe thead th {\n        text-align: right;\n    }\n</style>\n<table border=\"1\" class=\"dataframe\">\n  <thead>\n    <tr style=\"text-align: right;\">\n      <th></th>\n      <th>nconst</th>\n      <th>primaryName</th>\n      <th>birthYear</th>\n      <th>deathYear</th>\n      <th>primaryProfession</th>\n      <th>knownForTitles</th>\n    </tr>\n  </thead>\n  <tbody>\n    <tr>\n      <th>0</th>\n      <td>nm0000001</td>\n      <td>Fred Astaire</td>\n      <td>1899</td>\n      <td>1987</td>\n      <td>actor,miscellaneous,producer</td>\n      <td>tt0072308,tt0050419,tt0053137,tt0027125</td>\n    </tr>\n    <tr>\n      <th>1</th>\n      <td>nm0000002</td>\n      <td>Lauren Bacall</td>\n      <td>1924</td>\n      <td>2014</td>\n      <td>actress,soundtrack,archive_footage</td>\n      <td>tt0037382,tt0075213,tt0117057,tt0038355</td>\n    </tr>\n    <tr>\n      <th>2</th>\n      <td>nm0000003</td>\n      <td>Brigitte Bardot</td>\n      <td>1934</td>\n      <td>\\N</td>\n      <td>actress,music_department,producer</td>\n      <td>tt0057345,tt0049189,tt0056404,tt0054452</td>\n    </tr>\n    <tr>\n      <th>3</th>\n      <td>nm0000004</td>\n      <td>John Belushi</td>\n      <td>1949</td>\n      <td>1982</td>\n      <td>actor,writer,music_department</td>\n      <td>tt0072562,tt0077975,tt0080455,tt0078723</td>\n    </tr>\n    <tr>\n      <th>4</th>\n      <td>nm0000005</td>\n      <td>Ingmar Bergman</td>\n      <td>1918</td>\n      <td>2007</td>\n      <td>writer,director,actor</td>\n      <td>tt0050986,tt0083922,tt0050976,tt0069467</td>\n    </tr>\n    <tr>\n      <th>...</th>\n      <td>...</td>\n      <td>...</td>\n      <td>...</td>\n      <td>...</td>\n      <td>...</td>\n      <td>...</td>\n    </tr>\n    <tr>\n      <th>13492071</th>\n      <td>nm9993714</td>\n      <td>Romeo del Rosario</td>\n      <td>\\N</td>\n      <td>\\N</td>\n      <td>animation_department,art_department</td>\n      <td>tt11657662,tt14069590,tt2455546</td>\n    </tr>\n    <tr>\n      <th>13492072</th>\n      <td>nm9993716</td>\n      <td>Essias Loberg</td>\n      <td>\\N</td>\n      <td>\\N</td>\n      <td>\\N</td>\n      <td>\\N</td>\n    </tr>\n    <tr>\n      <th>13492073</th>\n      <td>nm9993717</td>\n      <td>Harikrishnan Rajan</td>\n      <td>\\N</td>\n      <td>\\N</td>\n      <td>cinematographer</td>\n      <td>tt8736744</td>\n    </tr>\n    <tr>\n      <th>13492074</th>\n      <td>nm9993718</td>\n      <td>Aayush Nair</td>\n      <td>\\N</td>\n      <td>\\N</td>\n      <td>cinematographer</td>\n      <td>tt8736744</td>\n    </tr>\n    <tr>\n      <th>13492075</th>\n      <td>nm9993719</td>\n      <td>Andre Hill</td>\n      <td>\\N</td>\n      <td>\\N</td>\n      <td>writer</td>\n      <td>\\N</td>\n    </tr>\n  </tbody>\n</table>\n<p>13492076 rows × 6 columns</p>\n</div>"
     },
     "execution_count": 2,
     "metadata": {},
     "output_type": "execute_result"
    }
   ],
   "source": [
    "import pandas as pd\n",
    "names = pd.read_csv(r\"data/name.basics.tsv\", sep = '\\t')\n",
    "names"
   ],
   "metadata": {
    "collapsed": false,
    "ExecuteTime": {
     "end_time": "2024-05-16T14:37:58.994725Z",
     "start_time": "2024-05-16T14:37:28.167515Z"
    }
   },
   "id": "8a280c815ab9519f",
   "execution_count": 2
  },
  {
   "cell_type": "code",
   "outputs": [],
   "source": [],
   "metadata": {
    "collapsed": false
   },
   "id": "4331d3221c8f4d96",
   "execution_count": null
  },
  {
   "cell_type": "code",
   "outputs": [],
   "source": [],
   "metadata": {
    "collapsed": false
   },
   "id": "47325aa34a937680",
   "execution_count": null
  },
  {
   "cell_type": "code",
   "outputs": [],
   "source": [],
   "metadata": {
    "collapsed": false
   },
   "id": "b670c7de1ea1d2a9",
   "execution_count": null
  },
  {
   "cell_type": "code",
   "outputs": [],
   "source": [],
   "metadata": {
    "collapsed": false
   },
   "id": "40e751741ded5c3f",
   "execution_count": null
  },
  {
   "cell_type": "code",
   "outputs": [],
   "source": [],
   "metadata": {
    "collapsed": false
   },
   "id": "239484e76ec69ff7",
   "execution_count": null
  },
  {
   "cell_type": "code",
   "outputs": [
    {
     "data": {
      "text/plain": "dict"
     },
     "execution_count": 6,
     "metadata": {},
     "output_type": "execute_result"
    }
   ],
   "source": [
    "import json\n",
    "s = '{\"@context\":\"https://schema.org\",\"@type\":\"TVSeries\",\"url\":\"https://www.imdb.com/title/tt23624082/\",\"name\":\"Adibou: Aventure dans le corps humain\",\"image\":\"https://m.media-amazon.com/images/M/MV5BNzZiNTViYTEtODY3YS00YjdmLTlkMGMtNmYzZGIwMDMxMjMyXkEyXkFqcGdeQXVyNjMyODQ4NzQ@._V1_.jpg\",\"aggregateRating\":{\"@type\":\"AggregateRating\",\"ratingCount\":7,\"bestRating\":10,\"worstRating\":1,\"ratingValue\":8.3},\"genre\":[\"Animation\"],\"datePublished\":\"2007-02-17\",\"creator\":[{\"@type\":\"Organization\",\"url\":\"https://www.imdb.com/company/co0309427/\"}]}'\n",
    "a = json.loads(s)\n",
    "type(a)"
   ],
   "metadata": {
    "collapsed": false,
    "ExecuteTime": {
     "end_time": "2024-05-06T08:13:47.828240Z",
     "start_time": "2024-05-06T08:13:47.822594Z"
    }
   },
   "id": "b580bc6326bc6447",
   "execution_count": 6
  },
  {
   "cell_type": "code",
   "outputs": [],
   "source": [],
   "metadata": {
    "collapsed": false,
    "ExecuteTime": {
     "end_time": "2024-05-06T08:13:24.183446Z",
     "start_time": "2024-05-06T08:13:24.177714Z"
    }
   },
   "id": "139b1fcdfcdf8ff1",
   "execution_count": 4
  },
  {
   "metadata": {
    "ExecuteTime": {
     "end_time": "2024-04-29T20:35:57.451961Z",
     "start_time": "2024-04-29T20:35:57.141350Z"
    }
   },
   "cell_type": "code",
   "source": [
    "titlebasicxs[\"titleType\"].unique()"
   ],
   "id": "cc1df6cae43671e5",
   "outputs": [
    {
     "data": {
      "text/plain": [
       "array(['short', 'movie', 'tvShort', 'tvMovie', 'tvSeries', 'tvEpisode',\n",
       "       'tvMiniSeries', 'tvSpecial', 'video', 'videoGame', 'tvPilot'],\n",
       "      dtype=object)"
      ]
     },
     "execution_count": 17,
     "metadata": {},
     "output_type": "execute_result"
    }
   ],
   "execution_count": 17
  },
  {
   "metadata": {
    "ExecuteTime": {
     "end_time": "2024-04-29T20:55:58.210686Z",
     "start_time": "2024-04-29T20:55:56.950581Z"
    }
   },
   "cell_type": "code",
   "source": [
    "with open(\"movie_codes.txt\", \"w\", encoding=\"utf-8\") as f:\n",
    "    f.write(\"\\n\".join(titlebasicxs[\"tconst\"]))"
   ],
   "id": "e3dcf987f5c7bd75",
   "outputs": [],
   "execution_count": 26
  },
  {
   "metadata": {
    "ExecuteTime": {
     "end_time": "2024-05-06T08:53:53.588814Z",
     "start_time": "2024-05-06T08:53:46.245333Z"
    }
   },
   "cell_type": "code",
   "source": [
    "# tt9916852\n",
    "temp = titlebasicxs[titlebasicxs[\"titleType\"].isin(['movie', 'tvMovie', 'tvSeries'])]\n",
    "with open(\"movie_codes_all.txt\", \"w\", encoding=\"utf-8\") as f:\n",
    "    f.write(\"\\n\".join(temp[\"tconst\"]))"
   ],
   "id": "c50e96f5e2660203",
   "outputs": [],
   "execution_count": 13
  },
  {
   "metadata": {
    "ExecuteTime": {
     "end_time": "2024-04-29T21:48:59.837507Z",
     "start_time": "2024-04-29T21:48:59.619857Z"
    }
   },
   "cell_type": "code",
   "source": [
    "with open(\"movie_codes.txt\", \"w\", encoding=\"utf-8\") as f:\n",
    "    f.write(\"\\n\".join(temp[\"tconst\"]))"
   ],
   "id": "c3bc30ac7e9cd91a",
   "outputs": [],
   "execution_count": 34
  },
  {
   "metadata": {
    "ExecuteTime": {
     "end_time": "2024-04-29T21:48:59.616863Z",
     "start_time": "2024-04-29T21:47:58.534585Z"
    }
   },
   "cell_type": "code",
   "source": [
    "titleprincipals = pd.read_csv(r\"title.principals.tsv\", sep = '\\t')\n",
    "titleprincipals"
   ],
   "id": "4e62a7f71d78901c",
   "outputs": [
    {
     "data": {
      "text/plain": [
       "             tconst  ordering     nconst         category  \\\n",
       "0         tt0000001         1  nm1588970             self   \n",
       "1         tt0000001         2  nm0005690         director   \n",
       "2         tt0000001         3  nm0005690         producer   \n",
       "3         tt0000001         4  nm0374658  cinematographer   \n",
       "4         tt0000002         1  nm0721526         director   \n",
       "...             ...       ...        ...              ...   \n",
       "85314754  tt9916880        18  nm0996406         director   \n",
       "85314755  tt9916880        19  nm1482639           writer   \n",
       "85314756  tt9916880        20  nm2586970           writer   \n",
       "85314757  tt9916880        21  nm1594058         producer   \n",
       "85314758  tt9916880        22  nm1482639         producer   \n",
       "\n",
       "                              job characters  \n",
       "0                              \\N   [\"Self\"]  \n",
       "1                              \\N         \\N  \n",
       "2                        producer         \\N  \n",
       "3         director of photography         \\N  \n",
       "4                              \\N         \\N  \n",
       "...                           ...        ...  \n",
       "85314754       principal director         \\N  \n",
       "85314755                       \\N         \\N  \n",
       "85314756                    books         \\N  \n",
       "85314757                 producer         \\N  \n",
       "85314758                 producer         \\N  \n",
       "\n",
       "[85314759 rows x 6 columns]"
      ],
      "text/html": [
       "<div>\n",
       "<style scoped>\n",
       "    .dataframe tbody tr th:only-of-type {\n",
       "        vertical-align: middle;\n",
       "    }\n",
       "\n",
       "    .dataframe tbody tr th {\n",
       "        vertical-align: top;\n",
       "    }\n",
       "\n",
       "    .dataframe thead th {\n",
       "        text-align: right;\n",
       "    }\n",
       "</style>\n",
       "<table border=\"1\" class=\"dataframe\">\n",
       "  <thead>\n",
       "    <tr style=\"text-align: right;\">\n",
       "      <th></th>\n",
       "      <th>tconst</th>\n",
       "      <th>ordering</th>\n",
       "      <th>nconst</th>\n",
       "      <th>category</th>\n",
       "      <th>job</th>\n",
       "      <th>characters</th>\n",
       "    </tr>\n",
       "  </thead>\n",
       "  <tbody>\n",
       "    <tr>\n",
       "      <th>0</th>\n",
       "      <td>tt0000001</td>\n",
       "      <td>1</td>\n",
       "      <td>nm1588970</td>\n",
       "      <td>self</td>\n",
       "      <td>\\N</td>\n",
       "      <td>[\"Self\"]</td>\n",
       "    </tr>\n",
       "    <tr>\n",
       "      <th>1</th>\n",
       "      <td>tt0000001</td>\n",
       "      <td>2</td>\n",
       "      <td>nm0005690</td>\n",
       "      <td>director</td>\n",
       "      <td>\\N</td>\n",
       "      <td>\\N</td>\n",
       "    </tr>\n",
       "    <tr>\n",
       "      <th>2</th>\n",
       "      <td>tt0000001</td>\n",
       "      <td>3</td>\n",
       "      <td>nm0005690</td>\n",
       "      <td>producer</td>\n",
       "      <td>producer</td>\n",
       "      <td>\\N</td>\n",
       "    </tr>\n",
       "    <tr>\n",
       "      <th>3</th>\n",
       "      <td>tt0000001</td>\n",
       "      <td>4</td>\n",
       "      <td>nm0374658</td>\n",
       "      <td>cinematographer</td>\n",
       "      <td>director of photography</td>\n",
       "      <td>\\N</td>\n",
       "    </tr>\n",
       "    <tr>\n",
       "      <th>4</th>\n",
       "      <td>tt0000002</td>\n",
       "      <td>1</td>\n",
       "      <td>nm0721526</td>\n",
       "      <td>director</td>\n",
       "      <td>\\N</td>\n",
       "      <td>\\N</td>\n",
       "    </tr>\n",
       "    <tr>\n",
       "      <th>...</th>\n",
       "      <td>...</td>\n",
       "      <td>...</td>\n",
       "      <td>...</td>\n",
       "      <td>...</td>\n",
       "      <td>...</td>\n",
       "      <td>...</td>\n",
       "    </tr>\n",
       "    <tr>\n",
       "      <th>85314754</th>\n",
       "      <td>tt9916880</td>\n",
       "      <td>18</td>\n",
       "      <td>nm0996406</td>\n",
       "      <td>director</td>\n",
       "      <td>principal director</td>\n",
       "      <td>\\N</td>\n",
       "    </tr>\n",
       "    <tr>\n",
       "      <th>85314755</th>\n",
       "      <td>tt9916880</td>\n",
       "      <td>19</td>\n",
       "      <td>nm1482639</td>\n",
       "      <td>writer</td>\n",
       "      <td>\\N</td>\n",
       "      <td>\\N</td>\n",
       "    </tr>\n",
       "    <tr>\n",
       "      <th>85314756</th>\n",
       "      <td>tt9916880</td>\n",
       "      <td>20</td>\n",
       "      <td>nm2586970</td>\n",
       "      <td>writer</td>\n",
       "      <td>books</td>\n",
       "      <td>\\N</td>\n",
       "    </tr>\n",
       "    <tr>\n",
       "      <th>85314757</th>\n",
       "      <td>tt9916880</td>\n",
       "      <td>21</td>\n",
       "      <td>nm1594058</td>\n",
       "      <td>producer</td>\n",
       "      <td>producer</td>\n",
       "      <td>\\N</td>\n",
       "    </tr>\n",
       "    <tr>\n",
       "      <th>85314758</th>\n",
       "      <td>tt9916880</td>\n",
       "      <td>22</td>\n",
       "      <td>nm1482639</td>\n",
       "      <td>producer</td>\n",
       "      <td>producer</td>\n",
       "      <td>\\N</td>\n",
       "    </tr>\n",
       "  </tbody>\n",
       "</table>\n",
       "<p>85314759 rows × 6 columns</p>\n",
       "</div>"
      ]
     },
     "execution_count": 33,
     "metadata": {},
     "output_type": "execute_result"
    }
   ],
   "execution_count": 33
  },
  {
   "metadata": {
    "ExecuteTime": {
     "end_time": "2024-04-29T19:52:54.740057Z",
     "start_time": "2024-04-29T19:52:54.056078Z"
    }
   },
   "cell_type": "code",
   "source": [
    "titleratings = pd.read_csv(r\"title.ratings.tsv\", sep = '\\t')\n",
    "titleratings"
   ],
   "id": "7d72c0f059902781",
   "outputs": [
    {
     "data": {
      "text/plain": [
       "            tconst  averageRating  numVotes\n",
       "0        tt0000001            5.7      2045\n",
       "1        tt0000002            5.7       273\n",
       "2        tt0000003            6.5      2003\n",
       "3        tt0000004            5.4       178\n",
       "4        tt0000005            6.2      2763\n",
       "...            ...            ...       ...\n",
       "1428850  tt9916730            7.0        12\n",
       "1428851  tt9916766            7.1        23\n",
       "1428852  tt9916778            7.2        36\n",
       "1428853  tt9916840            7.0         9\n",
       "1428854  tt9916880            8.5         7\n",
       "\n",
       "[1428855 rows x 3 columns]"
      ],
      "text/html": [
       "<div>\n",
       "<style scoped>\n",
       "    .dataframe tbody tr th:only-of-type {\n",
       "        vertical-align: middle;\n",
       "    }\n",
       "\n",
       "    .dataframe tbody tr th {\n",
       "        vertical-align: top;\n",
       "    }\n",
       "\n",
       "    .dataframe thead th {\n",
       "        text-align: right;\n",
       "    }\n",
       "</style>\n",
       "<table border=\"1\" class=\"dataframe\">\n",
       "  <thead>\n",
       "    <tr style=\"text-align: right;\">\n",
       "      <th></th>\n",
       "      <th>tconst</th>\n",
       "      <th>averageRating</th>\n",
       "      <th>numVotes</th>\n",
       "    </tr>\n",
       "  </thead>\n",
       "  <tbody>\n",
       "    <tr>\n",
       "      <th>0</th>\n",
       "      <td>tt0000001</td>\n",
       "      <td>5.7</td>\n",
       "      <td>2045</td>\n",
       "    </tr>\n",
       "    <tr>\n",
       "      <th>1</th>\n",
       "      <td>tt0000002</td>\n",
       "      <td>5.7</td>\n",
       "      <td>273</td>\n",
       "    </tr>\n",
       "    <tr>\n",
       "      <th>2</th>\n",
       "      <td>tt0000003</td>\n",
       "      <td>6.5</td>\n",
       "      <td>2003</td>\n",
       "    </tr>\n",
       "    <tr>\n",
       "      <th>3</th>\n",
       "      <td>tt0000004</td>\n",
       "      <td>5.4</td>\n",
       "      <td>178</td>\n",
       "    </tr>\n",
       "    <tr>\n",
       "      <th>4</th>\n",
       "      <td>tt0000005</td>\n",
       "      <td>6.2</td>\n",
       "      <td>2763</td>\n",
       "    </tr>\n",
       "    <tr>\n",
       "      <th>...</th>\n",
       "      <td>...</td>\n",
       "      <td>...</td>\n",
       "      <td>...</td>\n",
       "    </tr>\n",
       "    <tr>\n",
       "      <th>1428850</th>\n",
       "      <td>tt9916730</td>\n",
       "      <td>7.0</td>\n",
       "      <td>12</td>\n",
       "    </tr>\n",
       "    <tr>\n",
       "      <th>1428851</th>\n",
       "      <td>tt9916766</td>\n",
       "      <td>7.1</td>\n",
       "      <td>23</td>\n",
       "    </tr>\n",
       "    <tr>\n",
       "      <th>1428852</th>\n",
       "      <td>tt9916778</td>\n",
       "      <td>7.2</td>\n",
       "      <td>36</td>\n",
       "    </tr>\n",
       "    <tr>\n",
       "      <th>1428853</th>\n",
       "      <td>tt9916840</td>\n",
       "      <td>7.0</td>\n",
       "      <td>9</td>\n",
       "    </tr>\n",
       "    <tr>\n",
       "      <th>1428854</th>\n",
       "      <td>tt9916880</td>\n",
       "      <td>8.5</td>\n",
       "      <td>7</td>\n",
       "    </tr>\n",
       "  </tbody>\n",
       "</table>\n",
       "<p>1428855 rows × 3 columns</p>\n",
       "</div>"
      ]
     },
     "execution_count": 12,
     "metadata": {},
     "output_type": "execute_result"
    }
   ],
   "execution_count": 12
  },
  {
   "metadata": {
    "ExecuteTime": {
     "end_time": "2024-05-10T08:20:09.648077Z",
     "start_time": "2024-05-10T08:17:46.159034Z"
    }
   },
   "cell_type": "code",
   "outputs": [],
   "execution_count": 3,
   "source": [
    "with open(\"parsed_data.csv\", \"r\", encoding=\"utf-8\") as f:\n",
    "    text = f.read().splitlines()\n",
    "columns = ['tconst', 'data']\n",
    "for t in range(len(text)):\n",
    "    text[t] = text[t].split(';', 1)"
   ],
   "id": "4861b68c52198fc6"
  },
  {
   "cell_type": "code",
   "outputs": [
    {
     "data": {
      "text/plain": "             tconst                                               data\n0         tt3224104  {\"@context\":\"https://schema.org\",\"@type\":\"TVSe...\n1        tt23624082  {\"@context\":\"https://schema.org\",\"@type\":\"TVSe...\n2         tt0451543  {\"@context\":\"https://schema.org\",\"@type\":\"TVSe...\n3         tt0000009  {\"@context\":\"https://schema.org\",\"@type\":\"Movi...\n4         tt0189184  {\"@context\":\"https://schema.org\",\"@type\":\"Movi...\n...             ...                                                ...\n1347155   tt0090008  {\"@context\":\"https://schema.org\",\"@type\":\"Movi...\n1347156   tt1807070  {\"@context\":\"https://schema.org\",\"@type\":\"Movi...\n1347157  tt32130925  {\"@context\":\"https://schema.org\",\"@type\":\"Movi...\n1347158  tt10670354  {\"@context\":\"https://schema.org\",\"@type\":\"TVSe...\n1347159  tt12032838  {\"@context\":\"https://schema.org\",\"@type\":\"Movi...\n\n[1347160 rows x 2 columns]",
      "text/html": "<div>\n<style scoped>\n    .dataframe tbody tr th:only-of-type {\n        vertical-align: middle;\n    }\n\n    .dataframe tbody tr th {\n        vertical-align: top;\n    }\n\n    .dataframe thead th {\n        text-align: right;\n    }\n</style>\n<table border=\"1\" class=\"dataframe\">\n  <thead>\n    <tr style=\"text-align: right;\">\n      <th></th>\n      <th>tconst</th>\n      <th>data</th>\n    </tr>\n  </thead>\n  <tbody>\n    <tr>\n      <th>0</th>\n      <td>tt3224104</td>\n      <td>{\"@context\":\"https://schema.org\",\"@type\":\"TVSe...</td>\n    </tr>\n    <tr>\n      <th>1</th>\n      <td>tt23624082</td>\n      <td>{\"@context\":\"https://schema.org\",\"@type\":\"TVSe...</td>\n    </tr>\n    <tr>\n      <th>2</th>\n      <td>tt0451543</td>\n      <td>{\"@context\":\"https://schema.org\",\"@type\":\"TVSe...</td>\n    </tr>\n    <tr>\n      <th>3</th>\n      <td>tt0000009</td>\n      <td>{\"@context\":\"https://schema.org\",\"@type\":\"Movi...</td>\n    </tr>\n    <tr>\n      <th>4</th>\n      <td>tt0189184</td>\n      <td>{\"@context\":\"https://schema.org\",\"@type\":\"Movi...</td>\n    </tr>\n    <tr>\n      <th>...</th>\n      <td>...</td>\n      <td>...</td>\n    </tr>\n    <tr>\n      <th>1347155</th>\n      <td>tt0090008</td>\n      <td>{\"@context\":\"https://schema.org\",\"@type\":\"Movi...</td>\n    </tr>\n    <tr>\n      <th>1347156</th>\n      <td>tt1807070</td>\n      <td>{\"@context\":\"https://schema.org\",\"@type\":\"Movi...</td>\n    </tr>\n    <tr>\n      <th>1347157</th>\n      <td>tt32130925</td>\n      <td>{\"@context\":\"https://schema.org\",\"@type\":\"Movi...</td>\n    </tr>\n    <tr>\n      <th>1347158</th>\n      <td>tt10670354</td>\n      <td>{\"@context\":\"https://schema.org\",\"@type\":\"TVSe...</td>\n    </tr>\n    <tr>\n      <th>1347159</th>\n      <td>tt12032838</td>\n      <td>{\"@context\":\"https://schema.org\",\"@type\":\"Movi...</td>\n    </tr>\n  </tbody>\n</table>\n<p>1347160 rows × 2 columns</p>\n</div>"
     },
     "execution_count": 6,
     "metadata": {},
     "output_type": "execute_result"
    }
   ],
   "source": [
    "parsed_data = pd.DataFrame(text, columns=columns)\n",
    "parsed_data"
   ],
   "metadata": {
    "collapsed": false,
    "ExecuteTime": {
     "end_time": "2024-05-10T08:21:04.459838Z",
     "start_time": "2024-05-10T08:21:02.578401Z"
    }
   },
   "id": "27cbde44975a6982",
   "execution_count": 6
  },
  {
   "cell_type": "code",
   "outputs": [],
   "source": [
    "import pandas as pd"
   ],
   "metadata": {
    "collapsed": false,
    "ExecuteTime": {
     "end_time": "2024-05-10T08:20:59.510938Z",
     "start_time": "2024-05-10T08:20:48.208059Z"
    }
   },
   "id": "624fad2aeb34ce45",
   "execution_count": 5
  },
  {
   "cell_type": "code",
   "outputs": [],
   "source": [],
   "metadata": {
    "collapsed": false
   },
   "id": "ad5109895a34cc7e",
   "execution_count": null
  }
 ],
 "metadata": {
  "kernelspec": {
   "display_name": "Python 3",
   "language": "python",
   "name": "python3"
  },
  "language_info": {
   "codemirror_mode": {
    "name": "ipython",
    "version": 2
   },
   "file_extension": ".py",
   "mimetype": "text/x-python",
   "name": "python",
   "nbconvert_exporter": "python",
   "pygments_lexer": "ipython2",
   "version": "2.7.6"
  }
 },
 "nbformat": 4,
 "nbformat_minor": 5
}
